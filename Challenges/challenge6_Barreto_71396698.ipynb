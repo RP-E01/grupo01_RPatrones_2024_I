{
 "cells": [
  {
   "cell_type": "markdown",
   "metadata": {},
   "source": [
    "## **`Challenge 6 `**\n",
    "    \n",
    "## <center>Acerca de los datos </center>\n",
    "\n",
    "​**Este conjunto de datos contiene 2126 registros de características extraídas de exámenes de Cardiotocograma, que luego fueron clasificados por un obstetra experto en 3 clases: \"Normal\", \"Suspect\" y \"Pathological\". El conjunto de datos contiene las siguientes características:**\n",
    "    \n",
    "* **baseline value:** Valor de línea base de la frecuencia cardíaca fetal (FHR) (latidos por minuto)   \n",
    "* **accelerations:** Número de aceleraciones por segundo\n",
    "* **fetal_movement:** Número de movimientos fetales por segundo    \n",
    "* **uterine_contractions:** Número de contracciones uterinas por segundo\n",
    "* **light_decelerations:** Número de desaceleraciones leves (LDs) por segundo\n",
    "* **severe_decelerations:** Número de desaceleraciones severas (SDs) por segundo\n",
    "* **prolongued_decelerations:** Número de desaceleraciones prolongadas (PDs) por segundo\n",
    "* **abnormal_short_term_variability:** Porcentaje de tiempo con variabilidad anormal a corto plazo\n",
    "* **mean_value_of_short_term_variability:** Valor medio de la variabilidad a corto plazo\n",
    "* **percentage_of_time_with_abnormal_long_term_variability:** Porcentaje de tiempo con variabilidad anormal a largo plazo\n",
    "* **mean_value_of_long_term_variability:** Valor medio de la variabilidad a largo plazo\n",
    "* **histogram_width:** Ancho del histograma creado usando todos los valores de un registro\n",
    "* **histogram_min:** Valor mínimo del histograma\n",
    "* **histogram_max:** Valor máximo del histograma\n",
    "* **histogram_number_of_peaks:** Número de picos en el histograma del examen\n",
    "* **histogram_number_of_zeroes:** Número de ceros en el histograma del examen\n",
    "* **histogram_mode:** Modo del histograma\n",
    "* **histogram_mean:** Media del histograma\n",
    "* **histogram_median:** Mediana del histograma\n",
    "* **histogram_variance:** Varianza del histograma\n",
    "* **histogram_tendency:** Tendencia del histograma\n",
    "* **fetal_health:** Codificado como 1-Normal(Normal); 2-Sospechoso(Suspect); 3-Patológic(Pathological).\n",
    "\n",
    "\n",
    "\n",
    "<br>\n",
    "\n",
    "Datos extraidos de :\n",
    "\n",
    "https://www.kaggle.com/datasets/andrewmvd/fetal-health-classification <br>\n",
    "\n",
    "<br>"
   ]
  },
  {
   "cell_type": "code",
   "execution_count": 5,
   "metadata": {},
   "outputs": [
    {
     "name": "stdout",
     "output_type": "stream",
     "text": [
      "baseline value                                            0\n",
      "accelerations                                             0\n",
      "fetal_movement                                            0\n",
      "uterine_contractions                                      0\n",
      "light_decelerations                                       0\n",
      "severe_decelerations                                      0\n",
      "prolongued_decelerations                                  0\n",
      "abnormal_short_term_variability                           0\n",
      "mean_value_of_short_term_variability                      0\n",
      "percentage_of_time_with_abnormal_long_term_variability    0\n",
      "mean_value_of_long_term_variability                       0\n",
      "histogram_width                                           0\n",
      "histogram_min                                             0\n",
      "histogram_max                                             0\n",
      "histogram_number_of_peaks                                 0\n",
      "histogram_number_of_zeroes                                0\n",
      "histogram_mode                                            0\n",
      "histogram_mean                                            0\n",
      "histogram_median                                          0\n",
      "histogram_variance                                        0\n",
      "histogram_tendency                                        0\n",
      "fetal_health                                              0\n",
      "dtype: int64\n"
     ]
    }
   ],
   "source": [
    "import pandas as pd\n",
    "\n",
    "# Cargar los datos\n",
    "data_path = \"https://github.com/ulewis/Ejemplos/raw/main/Datos/fetal_health.csv\"\n",
    "data = pd.read_csv(data_path)\n",
    "\n",
    "# Verificar si hay valores faltantes\n",
    "missing_values = data.isnull().sum()\n",
    "print(missing_values)\n"
   ]
  },
  {
   "cell_type": "code",
   "execution_count": 4,
   "metadata": {},
   "outputs": [
    {
     "name": "stdout",
     "output_type": "stream",
     "text": [
      "Mejores parámetros: {'svc__C': 10, 'svc__gamma': 'scale', 'svc__kernel': 'rbf'}\n",
      "Mejor puntuación de CV: 0.9276470588235293\n",
      "              precision    recall  f1-score   support\n",
      "\n",
      "         1.0       0.96      0.95      0.96       333\n",
      "         2.0       0.75      0.81      0.78        64\n",
      "         3.0       0.89      0.86      0.88        29\n",
      "\n",
      "    accuracy                           0.92       426\n",
      "   macro avg       0.87      0.88      0.87       426\n",
      "weighted avg       0.93      0.92      0.93       426\n",
      "\n"
     ]
    }
   ],
   "source": [
    "from sklearn.model_selection import train_test_split, GridSearchCV\n",
    "from sklearn.preprocessing import StandardScaler\n",
    "from sklearn.svm import SVC\n",
    "from sklearn.pipeline import Pipeline\n",
    "from sklearn.metrics import classification_report\n",
    "\n",
    "# Dividir los datos en conjuntos de entrenamiento y prueba\n",
    "X = data.drop('fetal_health', axis=1)\n",
    "y = data['fetal_health']\n",
    "X_train, X_test, y_train, y_test = train_test_split(X, y, test_size=0.2, random_state=42)\n",
    "\n",
    "# Crear un pipeline que incluye estandarización y SVC\n",
    "pipeline = Pipeline([\n",
    "    ('scaler', StandardScaler()),\n",
    "    ('svc', SVC(random_state=42))\n",
    "])\n",
    "\n",
    "# Configuración para Grid Search\n",
    "param_grid = {\n",
    "    'svc__C': [0.1, 1, 10],\n",
    "    'svc__gamma': ['scale', 'auto'],\n",
    "    'svc__kernel': ['linear', 'rbf']\n",
    "}\n",
    "\n",
    "# Realizar Grid Search\n",
    "grid_search = GridSearchCV(pipeline, param_grid, cv=5, scoring='accuracy')\n",
    "grid_search.fit(X_train, y_train)\n",
    "\n",
    "# Mejores parámetros y mejor puntuación\n",
    "print(\"Mejores parámetros:\", grid_search.best_params_)\n",
    "print(\"Mejor puntuación de CV:\", grid_search.best_score_)\n",
    "\n",
    "# Evaluar el modelo en el conjunto de prueba\n",
    "y_pred = grid_search.predict(X_test)\n",
    "print(classification_report(y_test, y_pred))"
   ]
  },
  {
   "cell_type": "code",
   "execution_count": 14,
   "metadata": {},
   "outputs": [
    {
     "name": "stdout",
     "output_type": "stream",
     "text": [
      "La salud fetal predicha es: Pathological\n"
     ]
    }
   ],
   "source": [
    "import numpy as np\n",
    "\n",
    "# Supongamos que tenemos un nuevo registro de características (21 caracteristicas)\n",
    "new_data = np.array([[120, 0.003, 0, 0.006, 0.003, 0, 0, 27, 0.5, 32, 12, 64, 62, 130, 120, 0, 120, 137, 121, 73, 1]])\n",
    "\n",
    "# Asegúrate de que las características estén en el mismo orden que en el conjunto de entrenamiento y tenga la forma correcta\n",
    "new_data_scaled = grid_search.best_estimator_.named_steps['scaler'].transform(new_data)\n",
    "\n",
    "# Predecir la salud fetal usando el pipeline\n",
    "predicted_health = grid_search.predict(new_data_scaled)\n",
    "\n",
    "# Definir que significa el numero de salud fetal\n",
    "fetal_health = {1: \"Normal\", 2: \"Suspect\", 3: \"Pathological\"}\n",
    "\n",
    "# Imprimir la clase predicha\n",
    "print(\"La salud fetal predicha es:\", fetal_health[int(predicted_health)])"
   ]
  }
 ],
 "metadata": {
  "kernelspec": {
   "display_name": "Python 3",
   "language": "python",
   "name": "python3"
  },
  "language_info": {
   "codemirror_mode": {
    "name": "ipython",
    "version": 3
   },
   "file_extension": ".py",
   "mimetype": "text/x-python",
   "name": "python",
   "nbconvert_exporter": "python",
   "pygments_lexer": "ipython3",
   "version": "3.11.8"
  }
 },
 "nbformat": 4,
 "nbformat_minor": 2
}
