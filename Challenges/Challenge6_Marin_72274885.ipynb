{
  "cells": [
    {
      "cell_type": "markdown",
      "metadata": {
        "id": "yGLZNlcuL6mA"
      },
      "source": [
        "![Patrones](https://drive.google.com/uc?export=view&id=1FVBEDeOK1dmp3cpfhbq82lA-eI0ZZJW1)\n",
        "\n",
        "# **`Challenge 6 `**\n",
        "\n",
        "# <center>Implementación de optimización de hiperparámetros y pipeline en una clasificación de Random Forest</center>\n",
        "    \n",
        "### Acerca de los datos\n",
        "\n",
        "​**Este conjunto de datos contiene 2126 registros de características extraídas de exámenes de Cardiotocograma, que luego fueron clasificados por un obstetra experto en 3 clases: \"Normal\", \"Suspect\" y \"Pathological\". El conjunto de datos contiene las siguientes características:**\n",
        "\n",
        "<br>\n",
        "\n",
        "Datos extraidos de :\n",
        "\n",
        "https://www.kaggle.com/datasets/andrewmvd/fetal-health-classification <br>\n",
        "\n",
        "<br>\n",
        "\n",
        "Base de datos usada: <br>\n",
        "    `Ayres de Campos et al. (2000) SisPorto 2.0 A Program for Automated Analysis of Cardiotocograms. J Matern Fetal Med 5:311-318`. [<small>DOI: 10.1002/1520-6661(200009/10)9:5<311::AID-MFM12>3.0.CO;2-9</small>](https://doi.org/10.1002/1520-6661(200009/10)9:5%3C311::AID-MFM12%3E3.0.CO;2-9)\n",
        "<br>\n",
        "\n"
      ]
    },
    {
      "cell_type": "markdown",
      "metadata": {
        "id": "2l-RVwcdOP0B"
      },
      "source": [
        "# Carga y preprocesamiento de datos\n",
        "Al cargar los datos, no se encontraron nulos para ninguna de las características, todas están en formato numérico, por lo que no se requiere de mucho preprocesamiento."
      ]
    },
    {
      "cell_type": "code",
      "execution_count": 1,
      "metadata": {
        "id": "wNdKHknCL1Ud"
      },
      "outputs": [],
      "source": [
        "import pandas as pd # feature selection"
      ]
    },
    {
      "cell_type": "code",
      "execution_count": 2,
      "metadata": {
        "id": "rKSug6tbPojV",
        "colab": {
          "base_uri": "https://localhost:8080/",
          "height": 273
        },
        "outputId": "9d0fa34d-86a8-4495-fa80-d3b3b2af3b7a"
      },
      "outputs": [
        {
          "output_type": "execute_result",
          "data": {
            "text/plain": [
              "   baseline value  accelerations  fetal_movement  uterine_contractions  \\\n",
              "0           120.0          0.000             0.0                 0.000   \n",
              "1           132.0          0.006             0.0                 0.006   \n",
              "2           133.0          0.003             0.0                 0.008   \n",
              "3           134.0          0.003             0.0                 0.008   \n",
              "4           132.0          0.007             0.0                 0.008   \n",
              "\n",
              "   light_decelerations  severe_decelerations  prolongued_decelerations  \\\n",
              "0                0.000                   0.0                       0.0   \n",
              "1                0.003                   0.0                       0.0   \n",
              "2                0.003                   0.0                       0.0   \n",
              "3                0.003                   0.0                       0.0   \n",
              "4                0.000                   0.0                       0.0   \n",
              "\n",
              "   abnormal_short_term_variability  mean_value_of_short_term_variability  \\\n",
              "0                             73.0                                   0.5   \n",
              "1                             17.0                                   2.1   \n",
              "2                             16.0                                   2.1   \n",
              "3                             16.0                                   2.4   \n",
              "4                             16.0                                   2.4   \n",
              "\n",
              "   percentage_of_time_with_abnormal_long_term_variability  ...  histogram_min  \\\n",
              "0                                               43.0       ...           62.0   \n",
              "1                                                0.0       ...           68.0   \n",
              "2                                                0.0       ...           68.0   \n",
              "3                                                0.0       ...           53.0   \n",
              "4                                                0.0       ...           53.0   \n",
              "\n",
              "   histogram_max  histogram_number_of_peaks  histogram_number_of_zeroes  \\\n",
              "0          126.0                        2.0                         0.0   \n",
              "1          198.0                        6.0                         1.0   \n",
              "2          198.0                        5.0                         1.0   \n",
              "3          170.0                       11.0                         0.0   \n",
              "4          170.0                        9.0                         0.0   \n",
              "\n",
              "   histogram_mode  histogram_mean  histogram_median  histogram_variance  \\\n",
              "0           120.0           137.0             121.0                73.0   \n",
              "1           141.0           136.0             140.0                12.0   \n",
              "2           141.0           135.0             138.0                13.0   \n",
              "3           137.0           134.0             137.0                13.0   \n",
              "4           137.0           136.0             138.0                11.0   \n",
              "\n",
              "   histogram_tendency  fetal_health  \n",
              "0                 1.0           2.0  \n",
              "1                 0.0           1.0  \n",
              "2                 0.0           1.0  \n",
              "3                 1.0           1.0  \n",
              "4                 1.0           1.0  \n",
              "\n",
              "[5 rows x 22 columns]"
            ],
            "text/html": [
              "\n",
              "  <div id=\"df-2277a5d9-9a0d-4932-9367-65a6e11ea918\" class=\"colab-df-container\">\n",
              "    <div>\n",
              "<style scoped>\n",
              "    .dataframe tbody tr th:only-of-type {\n",
              "        vertical-align: middle;\n",
              "    }\n",
              "\n",
              "    .dataframe tbody tr th {\n",
              "        vertical-align: top;\n",
              "    }\n",
              "\n",
              "    .dataframe thead th {\n",
              "        text-align: right;\n",
              "    }\n",
              "</style>\n",
              "<table border=\"1\" class=\"dataframe\">\n",
              "  <thead>\n",
              "    <tr style=\"text-align: right;\">\n",
              "      <th></th>\n",
              "      <th>baseline value</th>\n",
              "      <th>accelerations</th>\n",
              "      <th>fetal_movement</th>\n",
              "      <th>uterine_contractions</th>\n",
              "      <th>light_decelerations</th>\n",
              "      <th>severe_decelerations</th>\n",
              "      <th>prolongued_decelerations</th>\n",
              "      <th>abnormal_short_term_variability</th>\n",
              "      <th>mean_value_of_short_term_variability</th>\n",
              "      <th>percentage_of_time_with_abnormal_long_term_variability</th>\n",
              "      <th>...</th>\n",
              "      <th>histogram_min</th>\n",
              "      <th>histogram_max</th>\n",
              "      <th>histogram_number_of_peaks</th>\n",
              "      <th>histogram_number_of_zeroes</th>\n",
              "      <th>histogram_mode</th>\n",
              "      <th>histogram_mean</th>\n",
              "      <th>histogram_median</th>\n",
              "      <th>histogram_variance</th>\n",
              "      <th>histogram_tendency</th>\n",
              "      <th>fetal_health</th>\n",
              "    </tr>\n",
              "  </thead>\n",
              "  <tbody>\n",
              "    <tr>\n",
              "      <th>0</th>\n",
              "      <td>120.0</td>\n",
              "      <td>0.000</td>\n",
              "      <td>0.0</td>\n",
              "      <td>0.000</td>\n",
              "      <td>0.000</td>\n",
              "      <td>0.0</td>\n",
              "      <td>0.0</td>\n",
              "      <td>73.0</td>\n",
              "      <td>0.5</td>\n",
              "      <td>43.0</td>\n",
              "      <td>...</td>\n",
              "      <td>62.0</td>\n",
              "      <td>126.0</td>\n",
              "      <td>2.0</td>\n",
              "      <td>0.0</td>\n",
              "      <td>120.0</td>\n",
              "      <td>137.0</td>\n",
              "      <td>121.0</td>\n",
              "      <td>73.0</td>\n",
              "      <td>1.0</td>\n",
              "      <td>2.0</td>\n",
              "    </tr>\n",
              "    <tr>\n",
              "      <th>1</th>\n",
              "      <td>132.0</td>\n",
              "      <td>0.006</td>\n",
              "      <td>0.0</td>\n",
              "      <td>0.006</td>\n",
              "      <td>0.003</td>\n",
              "      <td>0.0</td>\n",
              "      <td>0.0</td>\n",
              "      <td>17.0</td>\n",
              "      <td>2.1</td>\n",
              "      <td>0.0</td>\n",
              "      <td>...</td>\n",
              "      <td>68.0</td>\n",
              "      <td>198.0</td>\n",
              "      <td>6.0</td>\n",
              "      <td>1.0</td>\n",
              "      <td>141.0</td>\n",
              "      <td>136.0</td>\n",
              "      <td>140.0</td>\n",
              "      <td>12.0</td>\n",
              "      <td>0.0</td>\n",
              "      <td>1.0</td>\n",
              "    </tr>\n",
              "    <tr>\n",
              "      <th>2</th>\n",
              "      <td>133.0</td>\n",
              "      <td>0.003</td>\n",
              "      <td>0.0</td>\n",
              "      <td>0.008</td>\n",
              "      <td>0.003</td>\n",
              "      <td>0.0</td>\n",
              "      <td>0.0</td>\n",
              "      <td>16.0</td>\n",
              "      <td>2.1</td>\n",
              "      <td>0.0</td>\n",
              "      <td>...</td>\n",
              "      <td>68.0</td>\n",
              "      <td>198.0</td>\n",
              "      <td>5.0</td>\n",
              "      <td>1.0</td>\n",
              "      <td>141.0</td>\n",
              "      <td>135.0</td>\n",
              "      <td>138.0</td>\n",
              "      <td>13.0</td>\n",
              "      <td>0.0</td>\n",
              "      <td>1.0</td>\n",
              "    </tr>\n",
              "    <tr>\n",
              "      <th>3</th>\n",
              "      <td>134.0</td>\n",
              "      <td>0.003</td>\n",
              "      <td>0.0</td>\n",
              "      <td>0.008</td>\n",
              "      <td>0.003</td>\n",
              "      <td>0.0</td>\n",
              "      <td>0.0</td>\n",
              "      <td>16.0</td>\n",
              "      <td>2.4</td>\n",
              "      <td>0.0</td>\n",
              "      <td>...</td>\n",
              "      <td>53.0</td>\n",
              "      <td>170.0</td>\n",
              "      <td>11.0</td>\n",
              "      <td>0.0</td>\n",
              "      <td>137.0</td>\n",
              "      <td>134.0</td>\n",
              "      <td>137.0</td>\n",
              "      <td>13.0</td>\n",
              "      <td>1.0</td>\n",
              "      <td>1.0</td>\n",
              "    </tr>\n",
              "    <tr>\n",
              "      <th>4</th>\n",
              "      <td>132.0</td>\n",
              "      <td>0.007</td>\n",
              "      <td>0.0</td>\n",
              "      <td>0.008</td>\n",
              "      <td>0.000</td>\n",
              "      <td>0.0</td>\n",
              "      <td>0.0</td>\n",
              "      <td>16.0</td>\n",
              "      <td>2.4</td>\n",
              "      <td>0.0</td>\n",
              "      <td>...</td>\n",
              "      <td>53.0</td>\n",
              "      <td>170.0</td>\n",
              "      <td>9.0</td>\n",
              "      <td>0.0</td>\n",
              "      <td>137.0</td>\n",
              "      <td>136.0</td>\n",
              "      <td>138.0</td>\n",
              "      <td>11.0</td>\n",
              "      <td>1.0</td>\n",
              "      <td>1.0</td>\n",
              "    </tr>\n",
              "  </tbody>\n",
              "</table>\n",
              "<p>5 rows × 22 columns</p>\n",
              "</div>\n",
              "    <div class=\"colab-df-buttons\">\n",
              "\n",
              "  <div class=\"colab-df-container\">\n",
              "    <button class=\"colab-df-convert\" onclick=\"convertToInteractive('df-2277a5d9-9a0d-4932-9367-65a6e11ea918')\"\n",
              "            title=\"Convert this dataframe to an interactive table.\"\n",
              "            style=\"display:none;\">\n",
              "\n",
              "  <svg xmlns=\"http://www.w3.org/2000/svg\" height=\"24px\" viewBox=\"0 -960 960 960\">\n",
              "    <path d=\"M120-120v-720h720v720H120Zm60-500h600v-160H180v160Zm220 220h160v-160H400v160Zm0 220h160v-160H400v160ZM180-400h160v-160H180v160Zm440 0h160v-160H620v160ZM180-180h160v-160H180v160Zm440 0h160v-160H620v160Z\"/>\n",
              "  </svg>\n",
              "    </button>\n",
              "\n",
              "  <style>\n",
              "    .colab-df-container {\n",
              "      display:flex;\n",
              "      gap: 12px;\n",
              "    }\n",
              "\n",
              "    .colab-df-convert {\n",
              "      background-color: #E8F0FE;\n",
              "      border: none;\n",
              "      border-radius: 50%;\n",
              "      cursor: pointer;\n",
              "      display: none;\n",
              "      fill: #1967D2;\n",
              "      height: 32px;\n",
              "      padding: 0 0 0 0;\n",
              "      width: 32px;\n",
              "    }\n",
              "\n",
              "    .colab-df-convert:hover {\n",
              "      background-color: #E2EBFA;\n",
              "      box-shadow: 0px 1px 2px rgba(60, 64, 67, 0.3), 0px 1px 3px 1px rgba(60, 64, 67, 0.15);\n",
              "      fill: #174EA6;\n",
              "    }\n",
              "\n",
              "    .colab-df-buttons div {\n",
              "      margin-bottom: 4px;\n",
              "    }\n",
              "\n",
              "    [theme=dark] .colab-df-convert {\n",
              "      background-color: #3B4455;\n",
              "      fill: #D2E3FC;\n",
              "    }\n",
              "\n",
              "    [theme=dark] .colab-df-convert:hover {\n",
              "      background-color: #434B5C;\n",
              "      box-shadow: 0px 1px 3px 1px rgba(0, 0, 0, 0.15);\n",
              "      filter: drop-shadow(0px 1px 2px rgba(0, 0, 0, 0.3));\n",
              "      fill: #FFFFFF;\n",
              "    }\n",
              "  </style>\n",
              "\n",
              "    <script>\n",
              "      const buttonEl =\n",
              "        document.querySelector('#df-2277a5d9-9a0d-4932-9367-65a6e11ea918 button.colab-df-convert');\n",
              "      buttonEl.style.display =\n",
              "        google.colab.kernel.accessAllowed ? 'block' : 'none';\n",
              "\n",
              "      async function convertToInteractive(key) {\n",
              "        const element = document.querySelector('#df-2277a5d9-9a0d-4932-9367-65a6e11ea918');\n",
              "        const dataTable =\n",
              "          await google.colab.kernel.invokeFunction('convertToInteractive',\n",
              "                                                    [key], {});\n",
              "        if (!dataTable) return;\n",
              "\n",
              "        const docLinkHtml = 'Like what you see? Visit the ' +\n",
              "          '<a target=\"_blank\" href=https://colab.research.google.com/notebooks/data_table.ipynb>data table notebook</a>'\n",
              "          + ' to learn more about interactive tables.';\n",
              "        element.innerHTML = '';\n",
              "        dataTable['output_type'] = 'display_data';\n",
              "        await google.colab.output.renderOutput(dataTable, element);\n",
              "        const docLink = document.createElement('div');\n",
              "        docLink.innerHTML = docLinkHtml;\n",
              "        element.appendChild(docLink);\n",
              "      }\n",
              "    </script>\n",
              "  </div>\n",
              "\n",
              "\n",
              "<div id=\"df-da10cec3-77b4-491b-b1b4-91482beaa257\">\n",
              "  <button class=\"colab-df-quickchart\" onclick=\"quickchart('df-da10cec3-77b4-491b-b1b4-91482beaa257')\"\n",
              "            title=\"Suggest charts\"\n",
              "            style=\"display:none;\">\n",
              "\n",
              "<svg xmlns=\"http://www.w3.org/2000/svg\" height=\"24px\"viewBox=\"0 0 24 24\"\n",
              "     width=\"24px\">\n",
              "    <g>\n",
              "        <path d=\"M19 3H5c-1.1 0-2 .9-2 2v14c0 1.1.9 2 2 2h14c1.1 0 2-.9 2-2V5c0-1.1-.9-2-2-2zM9 17H7v-7h2v7zm4 0h-2V7h2v10zm4 0h-2v-4h2v4z\"/>\n",
              "    </g>\n",
              "</svg>\n",
              "  </button>\n",
              "\n",
              "<style>\n",
              "  .colab-df-quickchart {\n",
              "      --bg-color: #E8F0FE;\n",
              "      --fill-color: #1967D2;\n",
              "      --hover-bg-color: #E2EBFA;\n",
              "      --hover-fill-color: #174EA6;\n",
              "      --disabled-fill-color: #AAA;\n",
              "      --disabled-bg-color: #DDD;\n",
              "  }\n",
              "\n",
              "  [theme=dark] .colab-df-quickchart {\n",
              "      --bg-color: #3B4455;\n",
              "      --fill-color: #D2E3FC;\n",
              "      --hover-bg-color: #434B5C;\n",
              "      --hover-fill-color: #FFFFFF;\n",
              "      --disabled-bg-color: #3B4455;\n",
              "      --disabled-fill-color: #666;\n",
              "  }\n",
              "\n",
              "  .colab-df-quickchart {\n",
              "    background-color: var(--bg-color);\n",
              "    border: none;\n",
              "    border-radius: 50%;\n",
              "    cursor: pointer;\n",
              "    display: none;\n",
              "    fill: var(--fill-color);\n",
              "    height: 32px;\n",
              "    padding: 0;\n",
              "    width: 32px;\n",
              "  }\n",
              "\n",
              "  .colab-df-quickchart:hover {\n",
              "    background-color: var(--hover-bg-color);\n",
              "    box-shadow: 0 1px 2px rgba(60, 64, 67, 0.3), 0 1px 3px 1px rgba(60, 64, 67, 0.15);\n",
              "    fill: var(--button-hover-fill-color);\n",
              "  }\n",
              "\n",
              "  .colab-df-quickchart-complete:disabled,\n",
              "  .colab-df-quickchart-complete:disabled:hover {\n",
              "    background-color: var(--disabled-bg-color);\n",
              "    fill: var(--disabled-fill-color);\n",
              "    box-shadow: none;\n",
              "  }\n",
              "\n",
              "  .colab-df-spinner {\n",
              "    border: 2px solid var(--fill-color);\n",
              "    border-color: transparent;\n",
              "    border-bottom-color: var(--fill-color);\n",
              "    animation:\n",
              "      spin 1s steps(1) infinite;\n",
              "  }\n",
              "\n",
              "  @keyframes spin {\n",
              "    0% {\n",
              "      border-color: transparent;\n",
              "      border-bottom-color: var(--fill-color);\n",
              "      border-left-color: var(--fill-color);\n",
              "    }\n",
              "    20% {\n",
              "      border-color: transparent;\n",
              "      border-left-color: var(--fill-color);\n",
              "      border-top-color: var(--fill-color);\n",
              "    }\n",
              "    30% {\n",
              "      border-color: transparent;\n",
              "      border-left-color: var(--fill-color);\n",
              "      border-top-color: var(--fill-color);\n",
              "      border-right-color: var(--fill-color);\n",
              "    }\n",
              "    40% {\n",
              "      border-color: transparent;\n",
              "      border-right-color: var(--fill-color);\n",
              "      border-top-color: var(--fill-color);\n",
              "    }\n",
              "    60% {\n",
              "      border-color: transparent;\n",
              "      border-right-color: var(--fill-color);\n",
              "    }\n",
              "    80% {\n",
              "      border-color: transparent;\n",
              "      border-right-color: var(--fill-color);\n",
              "      border-bottom-color: var(--fill-color);\n",
              "    }\n",
              "    90% {\n",
              "      border-color: transparent;\n",
              "      border-bottom-color: var(--fill-color);\n",
              "    }\n",
              "  }\n",
              "</style>\n",
              "\n",
              "  <script>\n",
              "    async function quickchart(key) {\n",
              "      const quickchartButtonEl =\n",
              "        document.querySelector('#' + key + ' button');\n",
              "      quickchartButtonEl.disabled = true;  // To prevent multiple clicks.\n",
              "      quickchartButtonEl.classList.add('colab-df-spinner');\n",
              "      try {\n",
              "        const charts = await google.colab.kernel.invokeFunction(\n",
              "            'suggestCharts', [key], {});\n",
              "      } catch (error) {\n",
              "        console.error('Error during call to suggestCharts:', error);\n",
              "      }\n",
              "      quickchartButtonEl.classList.remove('colab-df-spinner');\n",
              "      quickchartButtonEl.classList.add('colab-df-quickchart-complete');\n",
              "    }\n",
              "    (() => {\n",
              "      let quickchartButtonEl =\n",
              "        document.querySelector('#df-da10cec3-77b4-491b-b1b4-91482beaa257 button');\n",
              "      quickchartButtonEl.style.display =\n",
              "        google.colab.kernel.accessAllowed ? 'block' : 'none';\n",
              "    })();\n",
              "  </script>\n",
              "</div>\n",
              "    </div>\n",
              "  </div>\n"
            ],
            "application/vnd.google.colaboratory.intrinsic+json": {
              "type": "dataframe",
              "variable_name": "df"
            }
          },
          "metadata": {},
          "execution_count": 2
        }
      ],
      "source": [
        "df = pd.read_csv(\"https://github.com/ulewis/Ejemplos/raw/main/Datos/fetal_health.csv\")\n",
        "df.head()  # vemos los 5 primeros datos del dataframe"
      ]
    },
    {
      "cell_type": "code",
      "execution_count": 3,
      "metadata": {
        "colab": {
          "base_uri": "https://localhost:8080/"
        },
        "id": "cNKf305JOP0D",
        "outputId": "80ef12fa-eeba-4dd8-dc17-be4b75e43182"
      },
      "outputs": [
        {
          "output_type": "execute_result",
          "data": {
            "text/plain": [
              "baseline value                                            0\n",
              "accelerations                                             0\n",
              "fetal_movement                                            0\n",
              "uterine_contractions                                      0\n",
              "light_decelerations                                       0\n",
              "severe_decelerations                                      0\n",
              "prolongued_decelerations                                  0\n",
              "abnormal_short_term_variability                           0\n",
              "mean_value_of_short_term_variability                      0\n",
              "percentage_of_time_with_abnormal_long_term_variability    0\n",
              "mean_value_of_long_term_variability                       0\n",
              "histogram_width                                           0\n",
              "histogram_min                                             0\n",
              "histogram_max                                             0\n",
              "histogram_number_of_peaks                                 0\n",
              "histogram_number_of_zeroes                                0\n",
              "histogram_mode                                            0\n",
              "histogram_mean                                            0\n",
              "histogram_median                                          0\n",
              "histogram_variance                                        0\n",
              "histogram_tendency                                        0\n",
              "fetal_health                                              0\n",
              "dtype: int64"
            ]
          },
          "metadata": {},
          "execution_count": 3
        }
      ],
      "source": [
        "# Check for missing values in the dataset\n",
        "missing_values = df.isnull().sum()\n",
        "missing_values\n"
      ]
    },
    {
      "cell_type": "code",
      "execution_count": 4,
      "metadata": {
        "colab": {
          "base_uri": "https://localhost:8080/"
        },
        "id": "ekYA5BP8OP0E",
        "outputId": "e0824a01-656a-4412-c167-ef6d45c647f2"
      },
      "outputs": [
        {
          "output_type": "execute_result",
          "data": {
            "text/plain": [
              "baseline value                                            float64\n",
              "accelerations                                             float64\n",
              "fetal_movement                                            float64\n",
              "uterine_contractions                                      float64\n",
              "light_decelerations                                       float64\n",
              "severe_decelerations                                      float64\n",
              "prolongued_decelerations                                  float64\n",
              "abnormal_short_term_variability                           float64\n",
              "mean_value_of_short_term_variability                      float64\n",
              "percentage_of_time_with_abnormal_long_term_variability    float64\n",
              "mean_value_of_long_term_variability                       float64\n",
              "histogram_width                                           float64\n",
              "histogram_min                                             float64\n",
              "histogram_max                                             float64\n",
              "histogram_number_of_peaks                                 float64\n",
              "histogram_number_of_zeroes                                float64\n",
              "histogram_mode                                            float64\n",
              "histogram_mean                                            float64\n",
              "histogram_median                                          float64\n",
              "histogram_variance                                        float64\n",
              "histogram_tendency                                        float64\n",
              "fetal_health                                              float64\n",
              "dtype: object"
            ]
          },
          "metadata": {},
          "execution_count": 4
        }
      ],
      "source": [
        "df.dtypes #"
      ]
    },
    {
      "cell_type": "markdown",
      "metadata": {
        "id": "FmQLEqtUOP0E"
      },
      "source": [
        "# Variables a utilizar y variable objetivo\n",
        "\n",
        "A simple vista, parece que todas las variables pueden tener relevancia en el modelo de clasificación, la variable objetivo será fetal_health el cual contiene una categoría.\n",
        "\n",
        "Se implementarán los modelos de clasificación y se verificarán cuales de las características son las más relevantes.\n",
        "\n",
        "a. Las categorías ya estan definidas en fetal_health: 1-Normal(Normal); 2-Sospechoso(Suspect); 3-Patológic(Pathological)"
      ]
    },
    {
      "cell_type": "markdown",
      "metadata": {
        "id": "iszaZ-MgOP0E"
      },
      "source": [
        "# Split de data de entrenamiento y data de test"
      ]
    },
    {
      "cell_type": "code",
      "execution_count": 5,
      "metadata": {
        "colab": {
          "base_uri": "https://localhost:8080/"
        },
        "id": "EeNkCSpLOP0E",
        "outputId": "7c170191-95f1-4b5c-e83e-34bdceb57046"
      },
      "outputs": [
        {
          "output_type": "execute_result",
          "data": {
            "text/plain": [
              "((1700, 21), (426, 21), (1700,), (426,))"
            ]
          },
          "metadata": {},
          "execution_count": 5
        }
      ],
      "source": [
        "from sklearn.model_selection import train_test_split\n",
        "\n",
        "# Split the data into features and target variable\n",
        "X = df.drop('fetal_health', axis=1)\n",
        "y = df['fetal_health']\n",
        "\n",
        "# Split the dataset into training (70%) and testing (30%) sets\n",
        "X_train, X_test, y_train, y_test = train_test_split(X, y, test_size=0.2, random_state=3)\n",
        "\n",
        "# Confirm the sizes of the datasets\n",
        "X_train.shape, X_test.shape, y_train.shape, y_test.shape\n"
      ]
    },
    {
      "cell_type": "markdown",
      "metadata": {
        "id": "n6SyIsHuOP0E"
      },
      "source": [
        "# Entrenamiento y evaluación de modelos\n",
        "\n",
        "Se realizó una función para realizar la prueba de validación cruzada con los modelos y mostrar el classification report"
      ]
    },
    {
      "cell_type": "code",
      "execution_count": 6,
      "metadata": {
        "id": "pjfIjOuXOP0F"
      },
      "outputs": [],
      "source": [
        "from sklearn.metrics import classification_report, accuracy_score\n",
        "from sklearn.model_selection import cross_val_score\n",
        "import numpy as np\n",
        "\n",
        "def evaluate_model(model, X, y, name):\n",
        "    model.fit(X_train, y_train)\n",
        "    scores = cross_val_score(model, X, y, cv=5)\n",
        "    y_pred = model.predict(X_test)\n",
        "    print(classification_report(y_test, y_pred))\n",
        "    print(f\"Cross validation: Accuracy of {name} (mean ± std): {np.mean(scores):.4f} ± {np.std(scores):.4f}\")"
      ]
    },
    {
      "cell_type": "markdown",
      "metadata": {
        "id": "_YU2OAVfOP0F"
      },
      "source": [
        "# Random forest"
      ]
    },
    {
      "cell_type": "code",
      "execution_count": 22,
      "metadata": {
        "colab": {
          "base_uri": "https://localhost:8080/"
        },
        "id": "YwctTOZpOP0F",
        "outputId": "cccbe47b-6370-4219-db0e-3a0dc6db041a"
      },
      "outputs": [
        {
          "output_type": "stream",
          "name": "stdout",
          "text": [
            "              precision    recall  f1-score   support\n",
            "\n",
            "         1.0       0.97      0.98      0.98       343\n",
            "         2.0       0.85      0.80      0.82        50\n",
            "         3.0       0.94      0.91      0.92        33\n",
            "\n",
            "    accuracy                           0.96       426\n",
            "   macro avg       0.92      0.90      0.91       426\n",
            "weighted avg       0.95      0.96      0.95       426\n",
            "\n",
            "Cross validation: Accuracy of Random forest (mean ± std): 0.9412 ± 0.0113\n"
          ]
        }
      ],
      "source": [
        "from sklearn.model_selection import train_test_split\n",
        "from sklearn.ensemble import RandomForestClassifier\n",
        "from sklearn.experimental import enable_halving_search_cv\n",
        "from sklearn.model_selection import HalvingGridSearchCV\n",
        "from sklearn.metrics import classification_report, accuracy_score\n",
        "import matplotlib.pyplot as plt\n",
        "import seaborn as sns\n",
        "\n",
        "\n",
        "# Entrenar un clasificador de Random Forest\n",
        "rf = RandomForestClassifier(n_estimators=100, random_state=0)\n",
        "rf.fit(X_train, y_train)\n",
        "\n",
        "# Evaluar el modelo\n",
        "y_pred = rf.predict(X_test)\n",
        "evaluate_model(rf, X_train, y_train, \"Random forest\")\n"
      ]
    },
    {
      "cell_type": "markdown",
      "source": [
        "# Utilización de HalvingGridSearchCV para la optimización de hiperparámetros"
      ],
      "metadata": {
        "id": "gGaQUafHUm_M"
      }
    },
    {
      "cell_type": "code",
      "execution_count": 8,
      "metadata": {
        "colab": {
          "base_uri": "https://localhost:8080/"
        },
        "id": "HL56yaLuOP0F",
        "outputId": "241d2c04-b2c2-4821-9699-c606f4d28dd9"
      },
      "outputs": [
        {
          "output_type": "stream",
          "name": "stdout",
          "text": [
            "n_iterations: 4\n",
            "n_required_iterations: 4\n",
            "n_possible_iterations: 4\n",
            "min_resources_: 26\n",
            "max_resources_: 1700\n",
            "aggressive_elimination: False\n",
            "factor: 4\n",
            "----------\n",
            "iter: 0\n",
            "n_candidates: 216\n",
            "n_resources: 26\n",
            "Fitting 3 folds for each of 216 candidates, totalling 648 fits\n",
            "----------\n",
            "iter: 1\n",
            "n_candidates: 54\n",
            "n_resources: 104\n",
            "Fitting 3 folds for each of 54 candidates, totalling 162 fits\n",
            "----------\n",
            "iter: 2\n",
            "n_candidates: 14\n",
            "n_resources: 416\n",
            "Fitting 3 folds for each of 14 candidates, totalling 42 fits\n",
            "----------\n",
            "iter: 3\n",
            "n_candidates: 4\n",
            "n_resources: 1664\n",
            "Fitting 3 folds for each of 4 candidates, totalling 12 fits\n",
            "Mejores Hiperparámetros:\n",
            "{'bootstrap': False, 'max_depth': 10, 'max_features': 'sqrt', 'min_samples_leaf': 1, 'min_samples_split': 2, 'n_estimators': 300}\n",
            "Mejor Puntuación (Mean Test Score): 0.9314079422382672\n"
          ]
        }
      ],
      "source": [
        "# Importancia de hiperparámetros\n",
        "param_grid = {\n",
        "    'n_estimators': [100, 200, 300],\n",
        "    'max_features': ['log2', 'sqrt'],\n",
        "    'max_depth': [10, 20, 30],\n",
        "    'min_samples_split': [2, 5, 10],\n",
        "    'min_samples_leaf': [1,4],\n",
        "    'bootstrap': [True, False]\n",
        "}\n",
        "\n",
        "# Configuración de HalvingGridSearchCV\n",
        "halving_cv = HalvingGridSearchCV(\n",
        "    estimator=rf,\n",
        "    param_grid=param_grid,\n",
        "    factor=4,  # Factor incrementado para una reducción más rápida\n",
        "    resource='n_samples',\n",
        "    min_resources='exhaust',\n",
        "    cv=3,  # Reducido de 5 a 3 para menos carga computacional\n",
        "    return_train_score=True,\n",
        "    random_state=42,\n",
        "    n_jobs=-1,  # Utilizar todos los núcleos disponibles\n",
        "    verbose=1  # Mostrar más información durante el entrenamiento\n",
        ")\n",
        "\n",
        "# Ajustar el modelo\n",
        "halving_cv.fit(X_train, y_train)\n",
        "\n",
        "# Extraer los resultados\n",
        "results = halving_cv.cv_results_\n",
        "\n",
        "# Encontrar el índice de la mejor combinación de hiperparámetros\n",
        "best_index = halving_cv.best_index_\n",
        "\n",
        "# Imprimir los mejores hiperparámetros\n",
        "print(\"Mejores Hiperparámetros:\")\n",
        "print(halving_cv.best_params_)\n",
        "\n",
        "# Imprimir la mejor puntuación obtenida\n",
        "print(\"Mejor Puntuación (Mean Test Score):\", results['mean_test_score'][best_index])\n",
        "\n"
      ]
    },
    {
      "cell_type": "markdown",
      "source": [
        "# Utilización de HalvingRandomSearchCV para la optimización de hiperparámetros"
      ],
      "metadata": {
        "id": "vIoVK-hmUxc1"
      }
    },
    {
      "cell_type": "code",
      "execution_count": 25,
      "metadata": {
        "colab": {
          "base_uri": "https://localhost:8080/"
        },
        "id": "wOrB3aHoOP0F",
        "outputId": "a812a90e-a3dc-4a65-f46d-924f590a2b31"
      },
      "outputs": [
        {
          "output_type": "stream",
          "name": "stdout",
          "text": [
            "n_iterations: 7\n",
            "n_required_iterations: 7\n",
            "n_possible_iterations: 7\n",
            "min_resources_: 18\n",
            "max_resources_: 1700\n",
            "aggressive_elimination: False\n",
            "factor: 2\n",
            "----------\n",
            "iter: 0\n",
            "n_candidates: 100\n",
            "n_resources: 18\n",
            "Fitting 3 folds for each of 100 candidates, totalling 300 fits\n",
            "----------\n",
            "iter: 1\n",
            "n_candidates: 50\n",
            "n_resources: 36\n",
            "Fitting 3 folds for each of 50 candidates, totalling 150 fits\n",
            "----------\n",
            "iter: 2\n",
            "n_candidates: 25\n",
            "n_resources: 72\n",
            "Fitting 3 folds for each of 25 candidates, totalling 75 fits\n",
            "----------\n",
            "iter: 3\n",
            "n_candidates: 13\n",
            "n_resources: 144\n",
            "Fitting 3 folds for each of 13 candidates, totalling 39 fits\n",
            "----------\n",
            "iter: 4\n",
            "n_candidates: 7\n",
            "n_resources: 288\n",
            "Fitting 3 folds for each of 7 candidates, totalling 21 fits\n",
            "----------\n",
            "iter: 5\n",
            "n_candidates: 4\n",
            "n_resources: 576\n",
            "Fitting 3 folds for each of 4 candidates, totalling 12 fits\n",
            "----------\n",
            "iter: 6\n",
            "n_candidates: 2\n",
            "n_resources: 1152\n",
            "Fitting 3 folds for each of 2 candidates, totalling 6 fits\n",
            "Mejores Hiperparámetros:\n",
            "{'n_estimators': 300, 'min_samples_split': 10, 'min_samples_leaf': 1, 'max_features': 'log2', 'max_depth': 30, 'bootstrap': False}\n",
            "Mejor Puntuación (Mean Test Score): 0.9209570822454308\n"
          ]
        }
      ],
      "source": [
        "from sklearn.experimental import enable_halving_search_cv  # Necesario para habilitar HalvingSearchCV\n",
        "from sklearn.model_selection import HalvingRandomSearchCV\n",
        "\n",
        "\n",
        "# Importancia de hiperparámetros\n",
        "param_grid = {\n",
        "    'n_estimators': [100, 200, 300],\n",
        "    'max_features': ['log2', 'sqrt'],\n",
        "    'max_depth': [10, 20, 30],\n",
        "    'min_samples_split': [2, 5, 10],\n",
        "    'min_samples_leaf': [1, 4],\n",
        "    'bootstrap': [True, False]\n",
        "}\n",
        "\n",
        "# Configuración de HalvingRandomSearchCV\n",
        "halving_random_search = HalvingRandomSearchCV(\n",
        "    estimator=rf,\n",
        "    param_distributions=param_grid,\n",
        "    n_candidates=100,\n",
        "    factor=2,\n",
        "    resource='n_samples',\n",
        "    min_resources='smallest',\n",
        "    cv=3,\n",
        "    random_state=31,\n",
        "    verbose=1,\n",
        "    n_jobs=-1,\n",
        "    return_train_score=True\n",
        ")\n",
        "\n",
        "# Ajustar el modelo\n",
        "halving_random_search.fit(X_train, y_train)\n",
        "\n",
        "# Extraer los resultados\n",
        "results2 = halving_random_search.cv_results_\n",
        "\n",
        "# Encontrar el índice de la mejor combinación de hiperparámetros\n",
        "best_index2 = halving_random_search.best_index_\n",
        "\n",
        "# Imprimir los mejores hiperparámetros\n",
        "print(\"Mejores Hiperparámetros:\")\n",
        "print(halving_random_search.best_params_)\n",
        "\n",
        "# Imprimir la mejor puntuación obtenida\n",
        "print(\"Mejor Puntuación (Mean Test Score):\", results2['mean_test_score'][best_index2])\n"
      ]
    },
    {
      "cell_type": "markdown",
      "source": [
        "Evaluación de las métricas tras ajuste de hiperparámetros:"
      ],
      "metadata": {
        "id": "vUpgu48Scd5L"
      }
    },
    {
      "cell_type": "code",
      "source": [
        "# Entrenar un clasificador de Random Forest\n",
        "rf = RandomForestClassifier(n_estimators=300,min_samples_split=2,min_samples_leaf=1,max_features=\"sqrt\",max_depth=10, random_state=0,bootstrap=False)\n",
        "rf.fit(X_train, y_train)\n",
        "\n",
        "# Evaluar el modelo\n",
        "y_pred = rf.predict(X_test)\n",
        "evaluate_model(rf, X_train, y_train, \"Random forest\")"
      ],
      "metadata": {
        "colab": {
          "base_uri": "https://localhost:8080/"
        },
        "id": "RyMY8DUhXOFm",
        "outputId": "744b4e30-ad4e-4fe6-8862-a6cd7a5f8e61"
      },
      "execution_count": 29,
      "outputs": [
        {
          "output_type": "stream",
          "name": "stdout",
          "text": [
            "              precision    recall  f1-score   support\n",
            "\n",
            "         1.0       0.97      0.98      0.98       343\n",
            "         2.0       0.82      0.82      0.82        50\n",
            "         3.0       0.97      0.91      0.94        33\n",
            "\n",
            "    accuracy                           0.96       426\n",
            "   macro avg       0.92      0.90      0.91       426\n",
            "weighted avg       0.96      0.96      0.96       426\n",
            "\n",
            "Cross validation: Accuracy of Random forest (mean ± std): 0.9394 ± 0.0121\n"
          ]
        }
      ]
    },
    {
      "cell_type": "markdown",
      "metadata": {
        "id": "j2tkYQhYOP0H"
      },
      "source": [
        "\n",
        "\n",
        "## Curva ROC del random forest:"
      ]
    },
    {
      "cell_type": "code",
      "execution_count": 20,
      "metadata": {
        "colab": {
          "base_uri": "https://localhost:8080/",
          "height": 472
        },
        "id": "znlmV7YPOP0I",
        "outputId": "fbc9282d-7b02-4466-b2f5-4d33e00d98b9"
      },
      "outputs": [
        {
          "output_type": "display_data",
          "data": {
            "text/plain": [
              "<Figure size 640x480 with 1 Axes>"
            ],
            "image/png": "[encoded data removed]"
          },
          "metadata": {}
        }
      ],
      "source": [
        "from sklearn.metrics import roc_curve, roc_auc_score, auc\n",
        "from sklearn.preprocessing import label_binarize\n",
        "from sklearn.multiclass import OneVsRestClassifier\n",
        "\n",
        "def plot_roc_curve(model, X_test, y_test, model_name):\n",
        "    # Binarize the output labels if more than two classes\n",
        "    y_test_bin = label_binarize(y_test, classes=np.unique(y_test))\n",
        "    n_classes = y_test_bin.shape[1]\n",
        "\n",
        "    # Compute ROC curve and ROC area for each class\n",
        "    y_score = model.predict_proba(X_test)\n",
        "\n",
        "    # Compute micro-average ROC curve and ROC area\n",
        "    fpr, tpr, _ = roc_curve(y_test_bin.ravel(), y_score.ravel())\n",
        "    roc_auc = auc(fpr, tpr)\n",
        "\n",
        "    plt.figure()\n",
        "    plt.plot(fpr, tpr, color='darkorange', lw=2, label='ROC curve (area = %0.2f)' % roc_auc)\n",
        "    plt.plot([0, 1], [0, 1], color='navy', lw=2, linestyle='--')\n",
        "    plt.xlim([0.0, 1.0])\n",
        "    plt.ylim([0.0, 1.05])\n",
        "    plt.xlabel('False Positive Rate')\n",
        "    plt.ylabel('True Positive Rate')\n",
        "    plt.title(f'ROC Curve for {model_name}')\n",
        "    plt.legend(loc=\"lower right\")\n",
        "    plt.show()\n",
        "\n",
        "# Asegurarse de ajustar el modelo\n",
        "ovr_rf = OneVsRestClassifier(rf)\n",
        "ovr_rf.fit(X_train, y_train)\n",
        "plot_roc_curve(ovr_rf, X_test, y_test, \"Random Forest\")\n"
      ]
    },
    {
      "cell_type": "markdown",
      "source": [
        "## Ejemplo de uso de pipeline\n",
        "\n",
        " El pipeline simplifica el flujo de trabajo y asegura que los datos pasen por el mismo preprocesamiento durante tanto el entrenamiento como la evaluación. Además, se garantiza que las técnicas de preprocesamiento y las configuraciones del modelo se validen adecuadamente juntas durante la validación cruzada.\n",
        "\n",
        " Utilización de RandomizedSearchCV"
      ],
      "metadata": {
        "id": "Bz29qFnyWfhl"
      }
    },
    {
      "cell_type": "code",
      "source": [
        "from sklearn.pipeline import Pipeline\n",
        "from sklearn.preprocessing import StandardScaler\n",
        "from sklearn.ensemble import RandomForestClassifier\n",
        "from sklearn.model_selection import RandomizedSearchCV\n",
        "\n",
        "# Cargar datos\n",
        "df = pd.read_csv(\"https://github.com/ulewis/Ejemplos/raw/main/Datos/fetal_health.csv\")\n",
        "X = df.drop('fetal_health', axis=1)\n",
        "y = df['fetal_health']\n",
        "X_train, X_test, y_train, y_test = train_test_split(X, y, test_size=0.2, random_state=3)\n",
        "\n",
        "# Definir el pipeline\n",
        "pipeline = Pipeline([\n",
        "    ('scaler', StandardScaler()),  # Paso de preprocesamiento\n",
        "    ('classifier', RandomForestClassifier(random_state=0))  # Paso del modelo\n",
        "])\n",
        "\n",
        "# Definir el espacio de búsqueda de hiperparámetros\n",
        "param_grid = {\n",
        "    'classifier__n_estimators': [100, 200, 300],\n",
        "    'classifier__max_features': ['log2', 'sqrt'],\n",
        "    'classifier__max_depth': [10, 20, 30],\n",
        "    'classifier__min_samples_split': [2, 5, 10],\n",
        "    'classifier__min_samples_leaf': [1, 4],\n",
        "    'classifier__bootstrap': [True, False]\n",
        "}\n",
        "\n",
        "# Configurar RandomizedSearchCV\n",
        "random_search = RandomizedSearchCV(\n",
        "    pipeline,\n",
        "    param_distributions=param_grid,\n",
        "    n_iter=100,\n",
        "    cv=3,\n",
        "    random_state=31,\n",
        "    n_jobs=-1,\n",
        "    verbose=1\n",
        ")\n",
        "\n",
        "# Ajustar el modelo usando el pipeline y la búsqueda de hiperparámetros\n",
        "random_search.fit(X_train, y_train)\n",
        "\n",
        "# Extraer y mostrar los mejores hiperparámetros\n",
        "print(\"Mejores Hiperparámetros:\", random_search.best_params_)\n",
        "print(\"Mejor Puntuación (Mean Test Score):\", random_search.best_score_)\n",
        "\n",
        "# Evaluar el modelo ajustado sobre el conjunto de prueba\n",
        "y_pred = random_search.predict(X_test)\n",
        "print(classification_report(y_test, y_pred))"
      ],
      "metadata": {
        "colab": {
          "base_uri": "https://localhost:8080/"
        },
        "id": "Uwsp3AeJQf20",
        "outputId": "ed1c483d-5b8a-409c-b895-0f63d311aff8"
      },
      "execution_count": 21,
      "outputs": [
        {
          "output_type": "stream",
          "name": "stdout",
          "text": [
            "Fitting 3 folds for each of 100 candidates, totalling 300 fits\n",
            "Mejores Hiperparámetros: {'classifier__n_estimators': 100, 'classifier__min_samples_split': 5, 'classifier__min_samples_leaf': 1, 'classifier__max_features': 'log2', 'classifier__max_depth': 30, 'classifier__bootstrap': False}\n",
            "Mejor Puntuación (Mean Test Score): 0.9376515165678887\n",
            "              precision    recall  f1-score   support\n",
            "\n",
            "         1.0       0.98      0.98      0.98       343\n",
            "         2.0       0.88      0.84      0.86        50\n",
            "         3.0       0.91      0.94      0.93        33\n",
            "\n",
            "    accuracy                           0.96       426\n",
            "   macro avg       0.92      0.92      0.92       426\n",
            "weighted avg       0.96      0.96      0.96       426\n",
            "\n"
          ]
        }
      ]
    }
  ],
  "metadata": {
    "colab": {
      "provenance": []
    },
    "kernelspec": {
      "display_name": "Python 3",
      "name": "python3"
    },
    "language_info": {
      "codemirror_mode": {
        "name": "ipython",
        "version": 3
      },
      "file_extension": ".py",
      "mimetype": "text/x-python",
      "name": "python",
      "nbconvert_exporter": "python",
      "pygments_lexer": "ipython3",
      "version": "3.10.0"
    }
  },
  "nbformat": 4,
  "nbformat_minor": 0
}