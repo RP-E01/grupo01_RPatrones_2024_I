{
  "nbformat": 4,
  "nbformat_minor": 0,
  "metadata": {
    "colab": {
      "provenance": []
    },
    "kernelspec": {
      "name": "python3",
      "display_name": "Python 3"
    },
    "language_info": {
      "name": "python"
    }
  },
  "cells": [
    {
      "cell_type": "markdown",
      "source": [
        "![Patrones](https://drive.google.com/uc?export=view&id=1FVBEDeOK1dmp3cpfhbq82lA-eI0ZZJW1)\n",
        "\n",
        "## **`Challenge 4 `**\n",
        "    \n",
        "## <center>Acerca de los datos </center>\n",
        "\n",
        "​**Este conjunto de datos contiene 2126 registros de características extraídas de exámenes de Cardiotocograma, que luego fueron clasificados por un obstetra experto en 3 clases: \"Normal\", \"Suspect\" y \"Pathological\". El conjunto de datos contiene las siguientes características:**\n",
        "    \n",
        "* **baseline value:** Valor de línea base de la frecuencia cardíaca fetal (FHR) (latidos por minuto)   \n",
        "* **accelerations:** Número de aceleraciones por segundo\n",
        "* **fetal_movement:** Número de movimientos fetales por segundo    \n",
        "* **uterine_contractions:** Número de contracciones uterinas por segundo\n",
        "* **light_decelerations:** Número de desaceleraciones leves (LDs) por segundo\n",
        "* **severe_decelerations:** Número de desaceleraciones severas (SDs) por segundo\n",
        "* **prolongued_decelerations:** Número de desaceleraciones prolongadas (PDs) por segundo\n",
        "* **abnormal_short_term_variability:** Porcentaje de tiempo con variabilidad anormal a corto plazo\n",
        "* **mean_value_of_short_term_variability:** Valor medio de la variabilidad a corto plazo\n",
        "* **percentage_of_time_with_abnormal_long_term_variability:** Porcentaje de tiempo con variabilidad anormal a largo plazo\n",
        "* **mean_value_of_long_term_variability:** Valor medio de la variabilidad a largo plazo\n",
        "* **histogram_width:** Ancho del histograma creado usando todos los valores de un registro\n",
        "* **histogram_min:** Valor mínimo del histograma\n",
        "* **histogram_max:** Valor máximo del histograma\n",
        "* **histogram_number_of_peaks:** Número de picos en el histograma del examen\n",
        "* **histogram_number_of_zeroes:** Número de ceros en el histograma del examen\n",
        "* **histogram_mode:** Modo del histograma\n",
        "* **histogram_mean:** Media del histograma\n",
        "* **histogram_median:** Mediana del histograma\n",
        "* **histogram_variance:** Varianza del histograma\n",
        "* **histogram_tendency:** Tendencia del histograma\n",
        "* **fetal_health:** Codificado como 1-Normal(Normal); 2-Sospechoso(Suspect); 3-Patológic(Pathological).\n",
        "\n",
        "\n",
        "\n",
        "<br>\n",
        "\n",
        "Datos extraidos de :\n",
        "\n",
        "https://www.kaggle.com/datasets/andrewmvd/fetal-health-classification <br>\n",
        "\n",
        "<br>\n",
        "\n",
        "\n",
        "> Nota <br> Si la base de datos es usada para investigación citar a: <br>\n",
        "    `Ayres de Campos et al. (2000) SisPorto 2.0 A Program for Automated Analysis of Cardiotocograms. J Matern Fetal Med 5:311-318`. [<small>DOI: 10.1002/1520-6661(200009/10)9:5<311::AID-MFM12>3.0.CO;2-9</small>](https://doi.org/10.1002/1520-6661(200009/10)9:5%3C311::AID-MFM12%3E3.0.CO;2-9)\n",
        "<br>\n",
        "\n",
        "___\n",
        "\n",
        "\n",
        "### Sobre el Challenge\n",
        "\n",
        "Implementar cada paso en Python\n",
        "\n",
        "1.\tUtilizar todos los conocimientos adquiridos en el curso.\n",
        "2.\tEscoger las variables usadas para clasificar, y la variable objetivo.\n",
        "\n",
        "  a. Si la variable objetivo no tiene categorías, crear categorías basadas en intervalos de valores. Por ejemplo, si nuestra variable va del 1 al 10,  podemos crear 5 categorías: categoría1(1-2), categoría2(3-4), categoría3(5-6), categoría4(7-8),categoría5(9-10)<br>\n",
        "  b. Crear al menos 2 de los modelos de clasificación visto en clase y un modelo de clasificación k-vecinos, donde k es nuestro número de categorías.<br>\n",
        "  c. \tDividir el conjunto en entrenamiento y prueba.<br>\n",
        "  d.\tEvaluar nuestro modelo (incluir validación cruzada).<br>\n",
        "  e.\tGenerar gráficos de nuestros resultados.<br>\n",
        "\n",
        "\n",
        "\n",
        "**Todas estas salidas deberán ser reportadas en un documento.**\n"
      ],
      "metadata": {
        "id": "yGLZNlcuL6mA"
      }
    },
    {
      "cell_type": "code",
      "execution_count": null,
      "metadata": {
        "id": "wNdKHknCL1Ud"
      },
      "outputs": [],
      "source": [
        "import pandas as pd"
      ]
    },
    {
      "cell_type": "code",
      "source": [
        "df = pd.read_csv(\"https://github.com/ulewis/Ejemplos/raw/main/Datos/fetal_health.csv\")\n",
        "df.head()  # vemos los 5 primeros datos del dataframe"
      ],
      "metadata": {
        "id": "rKSug6tbPojV"
      },
      "execution_count": null,
      "outputs": []
    }
  ]
}