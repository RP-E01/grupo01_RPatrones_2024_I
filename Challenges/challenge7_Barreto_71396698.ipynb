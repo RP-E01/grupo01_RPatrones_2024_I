{
  "nbformat": 4,
  "nbformat_minor": 0,
  "metadata": {
    "colab": {
      "provenance": [],
      "gpuType": "T4"
    },
    "kernelspec": {
      "name": "python3",
      "display_name": "Python 3"
    },
    "language_info": {
      "name": "python"
    },
    "accelerator": "GPU"
  },
  "cells": [
    {
      "cell_type": "code",
      "source": [
        "!pip install pydicom"
      ],
      "metadata": {
        "colab": {
          "base_uri": "https://localhost:8080/"
        },
        "id": "6I0a-02vy3d4",
        "outputId": "5dfa258c-196f-4d2b-feff-4230f14f0d3e"
      },
      "execution_count": 1,
      "outputs": [
        {
          "output_type": "stream",
          "name": "stdout",
          "text": [
            "Requirement already satisfied: pydicom in /usr/local/lib/python3.10/dist-packages (2.4.4)\n"
          ]
        }
      ]
    },
    {
      "cell_type": "code",
      "source": [
        "from google.colab import drive\n",
        "drive.mount('/content/drive')"
      ],
      "metadata": {
        "colab": {
          "base_uri": "https://localhost:8080/"
        },
        "id": "FTuiRa8oy2H7",
        "outputId": "4b52ad5a-bd20-4498-bbee-0c6ee4c08f3d"
      },
      "execution_count": 2,
      "outputs": [
        {
          "output_type": "stream",
          "name": "stdout",
          "text": [
            "Drive already mounted at /content/drive; to attempt to forcibly remount, call drive.mount(\"/content/drive\", force_remount=True).\n"
          ]
        }
      ]
    },
    {
      "cell_type": "code",
      "source": [
        "import pydicom\n",
        "import numpy as np\n",
        "from keras.models import Sequential\n",
        "from keras.layers import Dense, Flatten, Dropout\n",
        "from keras.optimizers import Adam\n",
        "from sklearn.model_selection import train_test_split\n",
        "import os"
      ],
      "metadata": {
        "id": "Ql0UgvDX0ggi"
      },
      "execution_count": 3,
      "outputs": []
    },
    {
      "cell_type": "code",
      "source": [
        "# Función para cargar imágenes y etiquetas de un directorio DICOM\n",
        "def load_dicom_images_and_labels(directory):\n",
        "    images = []\n",
        "    labels = []\n",
        "    for filename in os.listdir(directory):\n",
        "        if \".dcm\" in filename:\n",
        "            filepath = os.path.join(directory, filename)\n",
        "            dicom_file = pydicom.dcmread(filepath)\n",
        "\n",
        "            # Extraer la imagen\n",
        "            img_array = dicom_file.pixel_array\n",
        "            img_array = img_array / np.max(img_array)  # Normalización\n",
        "\n",
        "            # Extraer la etiqueta del estado del paciente\n",
        "            if 'PatientState' in dicom_file:\n",
        "                patient_state = dicom_file.PatientState\n",
        "                if patient_state == 'Signal absent':\n",
        "                    label = 0\n",
        "                else:\n",
        "                    label = 1\n",
        "            else:\n",
        "                # Si no hay información de PatientState, manejar de manera especial\n",
        "                label = None  # Omitir o asignar un valor por defecto\n",
        "\n",
        "            images.append(img_array)\n",
        "            labels.append(label)\n",
        "\n",
        "    return np.array(images), np.array(labels)\n",
        "\n",
        "# Carga de datos para múltiples sujetos\n",
        "data_dir = \"/content/drive/MyDrive/RDP\"\n",
        "all_images = []\n",
        "all_labels = []\n",
        "\n",
        "for i in range(1, 6):\n",
        "    subject_dir = os.path.join(data_dir, f\"subject_{i}\")\n",
        "    subject_images, subject_labels = load_dicom_images_and_labels(subject_dir)\n",
        "    all_images.append(subject_images)\n",
        "    all_labels.append(subject_labels)\n",
        "\n",
        "# Convertir listas de listas en un único arreglo numpy para imágenes y etiquetas\n",
        "all_images = np.concatenate(all_images, axis=0)\n",
        "all_labels = np.concatenate(all_labels, axis=0)"
      ],
      "metadata": {
        "id": "gQcv7QIa5Wnb"
      },
      "execution_count": 4,
      "outputs": []
    },
    {
      "cell_type": "code",
      "source": [
        "all_labels"
      ],
      "metadata": {
        "colab": {
          "base_uri": "https://localhost:8080/"
        },
        "id": "hcS5zTxT5g9T",
        "outputId": "fea371a0-540a-46f7-c28b-cc020ceaf4e0"
      },
      "execution_count": 5,
      "outputs": [
        {
          "output_type": "execute_result",
          "data": {
            "text/plain": [
              "array([0, 0, 0, 0, 0, 0, 0, 0, 0, 0, 0, 0, 0, 0, 0, 0, 0, 0, 0, 0, 0, 0,\n",
              "       0, 0, 0, 0, 0, 0, 0, 0, 0, 0, 0, 0, 0, 0, 0, 0, 0, 0, 0, 0, 0, 0,\n",
              "       0, 0, 0, 0, 0, 0, 0, 0, 0, 0, 0, 0, 0, 0, 0, 0, 0, 0, 0, 0, 0, 0,\n",
              "       0, 0, 0, 0, 0, 0, 0, 0, 0, 0, 0, 0, 0, 0, 0, 0, 0, 0, 0, 0, 0, 0,\n",
              "       0, 0, 0, 0, 0, 0, 0, 0, 0, 0, 0, 0, 0, 0, 0, 0, 0, 0, 0, 0, 0, 0,\n",
              "       0, 0, 0, 0, 1, 1, 1, 1, 1, 1, 1, 1, 1, 1, 1, 1, 1, 1, 1, 1, 1, 1,\n",
              "       1, 1, 1, 1, 1, 1, 1, 1, 1, 1, 1, 1, 1, 1, 1, 1, 1, 1, 1, 1, 1, 1,\n",
              "       1, 1, 1, 1, 1, 1, 1, 1, 1, 1, 1, 1, 1, 1, 1, 1, 1, 1, 1, 1, 1, 1,\n",
              "       1, 1, 1, 1, 1, 1, 1, 1, 1, 1, 1, 1, 1, 1, 1, 1, 1, 1, 1, 1, 1, 1,\n",
              "       1, 1, 1, 1, 1, 1, 1, 1, 1, 1, 1, 1, 1, 1, 1, 1, 1, 1, 1, 1, 1, 1,\n",
              "       1, 1, 1, 1, 1, 1, 1, 1, 1, 1, 1, 1, 1, 1, 1, 1, 1, 1, 1, 1, 1, 1,\n",
              "       1, 1, 1, 1, 1, 1, 1, 1, 1, 1, 1, 1, 1, 1, 1, 1, 1, 1, 1, 1, 1, 1,\n",
              "       1, 1, 1, 1, 1, 1, 1, 1, 1, 1, 1, 1, 1, 1, 1, 1, 1, 1, 1, 1, 1])"
            ]
          },
          "metadata": {},
          "execution_count": 5
        }
      ]
    },
    {
      "cell_type": "code",
      "source": [
        "# Dividir los datos\n",
        "X_train, X_test, y_train, y_test = train_test_split(all_images, all_labels, test_size=0.3, random_state=108)\n",
        "\n",
        "# Construir el modelo\n",
        "model = Sequential([\n",
        "    Flatten(input_shape=(X_train.shape[1], X_train.shape[2])),  # Ajustar según el tamaño de tus imágenes\n",
        "    Dense(64, activation='relu'),\n",
        "    Dense(32, activation='relu'),\n",
        "    Dense(1, activation='sigmoid')  # Asumiendo clasificación binaria\n",
        "])\n",
        "\n",
        "model.compile(loss='mse', metrics=['mae'])\n",
        "\n",
        "# Entrenamiento del modelo\n",
        "history = model.fit(X_train, y_train, epochs=20, validation_split=0.1)\n",
        "\n",
        "# Evaluar el modelo\n",
        "model.evaluate(X_test, y_test)"
      ],
      "metadata": {
        "colab": {
          "base_uri": "https://localhost:8080/"
        },
        "id": "YOkaHhyl2LER",
        "outputId": "2133e294-5c3b-4452-93f8-1165a540551b"
      },
      "execution_count": 6,
      "outputs": [
        {
          "output_type": "stream",
          "name": "stdout",
          "text": [
            "Epoch 1/20\n",
            "6/6 [==============================] - 6s 295ms/step - loss: 0.5797 - mae: 0.6227 - val_loss: 0.6500 - val_mae: 0.6500\n",
            "Epoch 2/20\n",
            "6/6 [==============================] - 1s 188ms/step - loss: 0.6089 - mae: 0.6089 - val_loss: 0.6500 - val_mae: 0.6500\n",
            "Epoch 3/20\n",
            "6/6 [==============================] - 1s 189ms/step - loss: 0.6089 - mae: 0.6089 - val_loss: 0.6500 - val_mae: 0.6500\n",
            "Epoch 4/20\n",
            "6/6 [==============================] - 1s 157ms/step - loss: 0.6089 - mae: 0.6089 - val_loss: 0.6500 - val_mae: 0.6500\n",
            "Epoch 5/20\n",
            "6/6 [==============================] - 1s 182ms/step - loss: 0.6089 - mae: 0.6089 - val_loss: 0.6500 - val_mae: 0.6500\n",
            "Epoch 6/20\n",
            "6/6 [==============================] - 1s 158ms/step - loss: 0.6089 - mae: 0.6089 - val_loss: 0.6500 - val_mae: 0.6500\n",
            "Epoch 7/20\n",
            "6/6 [==============================] - 1s 166ms/step - loss: 0.6089 - mae: 0.6089 - val_loss: 0.6500 - val_mae: 0.6500\n",
            "Epoch 8/20\n",
            "6/6 [==============================] - 1s 180ms/step - loss: 0.6089 - mae: 0.6089 - val_loss: 0.6500 - val_mae: 0.6500\n",
            "Epoch 9/20\n",
            "6/6 [==============================] - 1s 160ms/step - loss: 0.6089 - mae: 0.6089 - val_loss: 0.6500 - val_mae: 0.6500\n",
            "Epoch 10/20\n",
            "6/6 [==============================] - 1s 162ms/step - loss: 0.6089 - mae: 0.6089 - val_loss: 0.6500 - val_mae: 0.6500\n",
            "Epoch 11/20\n",
            "6/6 [==============================] - 1s 198ms/step - loss: 0.6089 - mae: 0.6089 - val_loss: 0.6500 - val_mae: 0.6500\n",
            "Epoch 12/20\n",
            "6/6 [==============================] - 1s 222ms/step - loss: 0.6089 - mae: 0.6089 - val_loss: 0.6500 - val_mae: 0.6500\n",
            "Epoch 13/20\n",
            "6/6 [==============================] - 1s 239ms/step - loss: 0.6089 - mae: 0.6089 - val_loss: 0.6500 - val_mae: 0.6500\n",
            "Epoch 14/20\n",
            "6/6 [==============================] - 2s 266ms/step - loss: 0.6089 - mae: 0.6089 - val_loss: 0.6500 - val_mae: 0.6500\n",
            "Epoch 15/20\n",
            "6/6 [==============================] - 1s 165ms/step - loss: 0.6089 - mae: 0.6089 - val_loss: 0.6500 - val_mae: 0.6500\n",
            "Epoch 16/20\n",
            "6/6 [==============================] - 1s 161ms/step - loss: 0.6089 - mae: 0.6089 - val_loss: 0.6500 - val_mae: 0.6500\n",
            "Epoch 17/20\n",
            "6/6 [==============================] - 1s 167ms/step - loss: 0.6089 - mae: 0.6089 - val_loss: 0.6500 - val_mae: 0.6500\n",
            "Epoch 18/20\n",
            "6/6 [==============================] - 1s 187ms/step - loss: 0.6089 - mae: 0.6089 - val_loss: 0.6500 - val_mae: 0.6500\n",
            "Epoch 19/20\n",
            "6/6 [==============================] - 1s 165ms/step - loss: 0.6089 - mae: 0.6089 - val_loss: 0.6500 - val_mae: 0.6500\n",
            "Epoch 20/20\n",
            "6/6 [==============================] - 1s 120ms/step - loss: 0.6089 - mae: 0.6089 - val_loss: 0.6500 - val_mae: 0.6500\n",
            "3/3 [==============================] - 0s 62ms/step - loss: 0.5698 - mae: 0.5698\n"
          ]
        },
        {
          "output_type": "execute_result",
          "data": {
            "text/plain": [
              "[0.569767415523529, 0.569767415523529]"
            ]
          },
          "metadata": {},
          "execution_count": 6
        }
      ]
    },
    {
      "cell_type": "code",
      "source": [
        "import matplotlib.pyplot as plt\n",
        "def plot_training_history(history):\n",
        "    loss = history.history['loss']\n",
        "    val_loss = history.history['val_loss']\n",
        "    epochs = range(1, 20 + 1)\n",
        "    plt.figure(figsize=(12, 5))\n",
        "    plt.plot(epochs, loss, 'ro', label='Training loss')\n",
        "    plt.plot(epochs, val_loss, 'r', label='Validation loss')\n",
        "    plt.title('Training and Validation Loss')\n",
        "    plt.legend()\n",
        "    plt.show()\n",
        "\n",
        "plot_training_history(history)"
      ],
      "metadata": {
        "colab": {
          "base_uri": "https://localhost:8080/",
          "height": 468
        },
        "id": "2SSz9saW24SX",
        "outputId": "af2a434c-d695-409e-86b5-eb4de9ef7735"
      },
      "execution_count": 7,
      "outputs": [
        {
          "output_type": "display_data",
          "data": {
            "text/plain": [
              "<Figure size 1200x500 with 1 Axes>"
            ],
            "image/png": "[encoded data removed]"
          },
          "metadata": {}
        }
      ]
    },
    {
      "cell_type": "code",
      "source": [
        "# Dividir los datos\n",
        "X_train, X_test, y_train, y_test = train_test_split(all_images, all_labels, test_size=0.3, random_state=108)\n",
        "\n",
        "# Construir el modelo\n",
        "model = Sequential([\n",
        "    Flatten(input_shape=(X_train.shape[1], X_train.shape[2])),  # Ajustar según el tamaño de tus imágenes\n",
        "    Dense(128, activation='relu'),\n",
        "    Dropout(0.5),\n",
        "    Dense(64, activation='relu'),\n",
        "    Dense(1, activation='sigmoid')  # Asumiendo clasificación binaria\n",
        "])\n",
        "\n",
        "model.compile(optimizer=Adam(), loss='binary_crossentropy', metrics=['accuracy'])\n",
        "\n",
        "# Entrenamiento del modelo\n",
        "history = model.fit(X_train, y_train, epochs=20, validation_split=0.2)\n",
        "\n",
        "# Evaluar el modelo\n",
        "model.evaluate(X_test, y_test)"
      ],
      "metadata": {
        "colab": {
          "base_uri": "https://localhost:8080/"
        },
        "id": "eYNWUESl-t0v",
        "outputId": "930b4317-ce90-4005-b9d9-ab8183235851"
      },
      "execution_count": 8,
      "outputs": [
        {
          "output_type": "stream",
          "name": "stdout",
          "text": [
            "Epoch 1/20\n",
            "5/5 [==============================] - 7s 520ms/step - loss: 72.7470 - accuracy: 0.4654 - val_loss: 83.0150 - val_accuracy: 0.5500\n",
            "Epoch 2/20\n",
            "5/5 [==============================] - 1s 215ms/step - loss: 51.9042 - accuracy: 0.6101 - val_loss: 15.4162 - val_accuracy: 0.4500\n",
            "Epoch 3/20\n",
            "5/5 [==============================] - 1s 231ms/step - loss: 44.1754 - accuracy: 0.5975 - val_loss: 23.3654 - val_accuracy: 0.5500\n",
            "Epoch 4/20\n",
            "5/5 [==============================] - 1s 225ms/step - loss: 39.3898 - accuracy: 0.5786 - val_loss: 4.4246 - val_accuracy: 0.6500\n",
            "Epoch 5/20\n",
            "5/5 [==============================] - 1s 212ms/step - loss: 27.0108 - accuracy: 0.5535 - val_loss: 18.5373 - val_accuracy: 0.4500\n",
            "Epoch 6/20\n",
            "5/5 [==============================] - 1s 229ms/step - loss: 25.1761 - accuracy: 0.5346 - val_loss: 35.5423 - val_accuracy: 0.4500\n",
            "Epoch 7/20\n",
            "5/5 [==============================] - 1s 230ms/step - loss: 19.1197 - accuracy: 0.5220 - val_loss: 2.9395 - val_accuracy: 0.4500\n",
            "Epoch 8/20\n",
            "5/5 [==============================] - 1s 221ms/step - loss: 13.2221 - accuracy: 0.5975 - val_loss: 2.8888 - val_accuracy: 0.5750\n",
            "Epoch 9/20\n",
            "5/5 [==============================] - 1s 206ms/step - loss: 9.6741 - accuracy: 0.5660 - val_loss: 5.7437 - val_accuracy: 0.4500\n",
            "Epoch 10/20\n",
            "5/5 [==============================] - 1s 209ms/step - loss: 8.5770 - accuracy: 0.6478 - val_loss: 5.3413 - val_accuracy: 0.5500\n",
            "Epoch 11/20\n",
            "5/5 [==============================] - 1s 235ms/step - loss: 5.5946 - accuracy: 0.5849 - val_loss: 3.2978 - val_accuracy: 0.6500\n",
            "Epoch 12/20\n",
            "5/5 [==============================] - 1s 295ms/step - loss: 3.6643 - accuracy: 0.6101 - val_loss: 1.7121 - val_accuracy: 0.6000\n",
            "Epoch 13/20\n",
            "5/5 [==============================] - 2s 362ms/step - loss: 1.5625 - accuracy: 0.5660 - val_loss: 1.2802 - val_accuracy: 0.6000\n",
            "Epoch 14/20\n",
            "5/5 [==============================] - 1s 257ms/step - loss: 0.7022 - accuracy: 0.6604 - val_loss: 0.6341 - val_accuracy: 0.5750\n",
            "Epoch 15/20\n",
            "5/5 [==============================] - 1s 207ms/step - loss: 0.5320 - accuracy: 0.6918 - val_loss: 0.6133 - val_accuracy: 0.6750\n",
            "Epoch 16/20\n",
            "5/5 [==============================] - 1s 237ms/step - loss: 0.4829 - accuracy: 0.6918 - val_loss: 0.6309 - val_accuracy: 0.7500\n",
            "Epoch 17/20\n",
            "5/5 [==============================] - 1s 212ms/step - loss: 0.5609 - accuracy: 0.6164 - val_loss: 0.6304 - val_accuracy: 0.6250\n",
            "Epoch 18/20\n",
            "5/5 [==============================] - 1s 227ms/step - loss: 0.5365 - accuracy: 0.6164 - val_loss: 0.5093 - val_accuracy: 0.7750\n",
            "Epoch 19/20\n",
            "5/5 [==============================] - 1s 212ms/step - loss: 0.4913 - accuracy: 0.6792 - val_loss: 0.5529 - val_accuracy: 0.7250\n",
            "Epoch 20/20\n",
            "5/5 [==============================] - 1s 177ms/step - loss: 0.4610 - accuracy: 0.7233 - val_loss: 0.4942 - val_accuracy: 0.7750\n",
            "3/3 [==============================] - 1s 92ms/step - loss: 0.4507 - accuracy: 0.8372\n"
          ]
        },
        {
          "output_type": "execute_result",
          "data": {
            "text/plain": [
              "[0.45073235034942627, 0.8372092843055725]"
            ]
          },
          "metadata": {},
          "execution_count": 8
        }
      ]
    },
    {
      "cell_type": "code",
      "source": [
        "plot_training_history(history)"
      ],
      "metadata": {
        "colab": {
          "base_uri": "https://localhost:8080/",
          "height": 468
        },
        "id": "nwgazQWp_ghV",
        "outputId": "b9211345-d115-487a-bb80-54b025ea5215"
      },
      "execution_count": 9,
      "outputs": [
        {
          "output_type": "display_data",
          "data": {
            "text/plain": [
              "<Figure size 1200x500 with 1 Axes>"
            ],
            "image/png": "[encoded data removed]"
          },
          "metadata": {}
        }
      ]
    },
    {
      "cell_type": "markdown",
      "source": [
        "### Análisis de los Resultados del Entrenamiento del Modelo de Redes Neuronales\n",
        "\n",
        "#### Inicial\n",
        "En el primer ploteo de las curvas de training loss y validation loss, se observa que ambas métricas se quedan estancadas. Esto puede deberse a varias razones:\n",
        "\n",
        "- **Pocas épocas de entrenamiento**: El número de épocas considerado fue insuficiente para que el modelo aprenda adecuadamente de los datos.\n",
        "- **Falta de optimizador adecuado**: No se usó un optimizador como Adam, que es conocido por su eficacia en la mayoría de los problemas de aprendizaje profundo.\n",
        "- **Métrica inadecuada**: Se utilizó la métrica de mean squared error (MSE), que puede no ser la más adecuada para el tipo de problema tratado (clasificación binaria en este caso).\n",
        "\n",
        "Además, no se observó un overfitting acentuado, lo que indica que el modelo no estaba aprendiendo suficiente información para siquiera comenzar a sobreajustar los datos.\n",
        "\n",
        "#### Mejoras Implementadas\n",
        "Después de varias iteraciones, se realizaron las siguientes mejoras en el modelo:\n",
        "\n",
        "- **Uso de Dropout**: Se añadió una capa de Dropout con una tasa de 0.5 para prevenir el sobreajuste.\n",
        "- **Optimizador Adam**: Se adoptó el optimizador Adam, que es más eficiente y adecuado para este tipo de problemas.\n",
        "- **Métrica de binary_crossentropy**: Se cambió la métrica a binary_crossentropy, que es más apropiada para problemas de clasificación binaria.\n",
        "\n",
        "Con estas mejoras, se observó un progreso significativo en el aprendizaje del modelo. Las curvas de training loss y validation loss mostraron una tendencia a mejorar relativamente, indicando que el modelo estaba aprendiendo de los datos y generalizando mejor. No hubo un overfitting acentuado, lo que sugiere que las técnicas de regularización y el optimizador estaban funcionando adecuadamente y resalta la baja cantidad de imágenes para el entrenamiento.\n",
        "\n",
        "#### Limitaciones de Datos y Recursos\n",
        "Es importante mencionar que la cantidad de imágenes de cáncer de mama utilizadas fue muy limitada a 285 en total, debido a que se sobrepasaba el límite computacional de RAM de Google Colab y me fue imposible usar más datos. Esto ocasiona el bajo progreso del algoritmo. \\\\\n",
        "*Se usó la base de datos VICTRE de TCIA y como target el \"Patient state\""
      ],
      "metadata": {
        "id": "U2IMmJT1CCqR"
      }
    }
  ]
}