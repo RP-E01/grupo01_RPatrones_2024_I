{
  "cells": [
    {
      "cell_type": "markdown",
      "metadata": {
        "id": "yGLZNlcuL6mA"
      },
      "source": [
        "![Patrones](https://drive.google.com/uc?export=view&id=1FVBEDeOK1dmp3cpfhbq82lA-eI0ZZJW1)\n",
        "\n",
        "## **`Challenge 4 `**\n",
        "    \n",
        "## <center>Acerca de los datos </center>\n",
        "\n",
        "​**Este conjunto de datos contiene 2126 registros de características extraídas de exámenes de Cardiotocograma, que luego fueron clasificados por un obstetra experto en 3 clases: \"Normal\", \"Suspect\" y \"Pathological\". El conjunto de datos contiene las siguientes características:**\n",
        "    \n",
        "* **baseline value:** Valor de línea base de la frecuencia cardíaca fetal (FHR) (latidos por minuto)   \n",
        "* **accelerations:** Número de aceleraciones por segundo\n",
        "* **fetal_movement:** Número de movimientos fetales por segundo    \n",
        "* **uterine_contractions:** Número de contracciones uterinas por segundo\n",
        "* **light_decelerations:** Número de desaceleraciones leves (LDs) por segundo\n",
        "* **severe_decelerations:** Número de desaceleraciones severas (SDs) por segundo\n",
        "* **prolongued_decelerations:** Número de desaceleraciones prolongadas (PDs) por segundo\n",
        "* **abnormal_short_term_variability:** Porcentaje de tiempo con variabilidad anormal a corto plazo\n",
        "* **mean_value_of_short_term_variability:** Valor medio de la variabilidad a corto plazo\n",
        "* **percentage_of_time_with_abnormal_long_term_variability:** Porcentaje de tiempo con variabilidad anormal a largo plazo\n",
        "* **mean_value_of_long_term_variability:** Valor medio de la variabilidad a largo plazo\n",
        "* **histogram_width:** Ancho del histograma creado usando todos los valores de un registro\n",
        "* **histogram_min:** Valor mínimo del histograma\n",
        "* **histogram_max:** Valor máximo del histograma\n",
        "* **histogram_number_of_peaks:** Número de picos en el histograma del examen\n",
        "* **histogram_number_of_zeroes:** Número de ceros en el histograma del examen\n",
        "* **histogram_mode:** Modo del histograma\n",
        "* **histogram_mean:** Media del histograma\n",
        "* **histogram_median:** Mediana del histograma\n",
        "* **histogram_variance:** Varianza del histograma\n",
        "* **histogram_tendency:** Tendencia del histograma\n",
        "* **fetal_health:** Codificado como 1-Normal(Normal); 2-Sospechoso(Suspect); 3-Patológic(Pathological).\n",
        "\n",
        "\n",
        "\n",
        "<br>\n",
        "\n",
        "Datos extraidos de :\n",
        "\n",
        "https://www.kaggle.com/datasets/andrewmvd/fetal-health-classification <br>\n",
        "\n",
        "<br>\n",
        "\n",
        "\n",
        "> Nota <br> Si la base de datos es usada para investigación citar a: <br>\n",
        "    `Ayres de Campos et al. (2000) SisPorto 2.0 A Program for Automated Analysis of Cardiotocograms. J Matern Fetal Med 5:311-318`. [<small>DOI: 10.1002/1520-6661(200009/10)9:5<311::AID-MFM12>3.0.CO;2-9</small>](https://doi.org/10.1002/1520-6661(200009/10)9:5%3C311::AID-MFM12%3E3.0.CO;2-9)\n",
        "<br>\n",
        "\n",
        "___\n",
        "\n",
        "\n",
        "### Sobre el Challenge\n",
        "\n",
        "Implementar cada paso en Python\n",
        "\n",
        "1.\tUtilizar todos los conocimientos adquiridos en el curso.\n",
        "2.\tEscoger las variables usadas para clasificar, y la variable objetivo.\n",
        "\n",
        "  a. Si la variable objetivo no tiene categorías, crear categorías basadas en intervalos de valores. Por ejemplo, si nuestra variable va del 1 al 10,  podemos crear 5 categorías: categoría1(1-2), categoría2(3-4), categoría3(5-6), categoría4(7-8),categoría5(9-10)<br>\n",
        "  b. Crear al menos 2 de los modelos de clasificación visto en clase y un modelo de clasificación k-vecinos, donde k es nuestro número de categorías.<br>\n",
        "  c. \tDividir el conjunto en entrenamiento y prueba.<br>\n",
        "  d.\tEvaluar nuestro modelo (incluir validación cruzada).<br>\n",
        "  e.\tGenerar gráficos de nuestros resultados.<br>\n",
        "\n",
        "\n",
        "\n",
        "**Todas estas salidas deberán ser reportadas en un documento.**\n"
      ]
    },
    {
      "cell_type": "markdown",
      "metadata": {},
      "source": [
        "# Carga y preprocesamiento de datos\n",
        "Al cargar los datos, no se encontraron nulos para ninguna de las características, todas están en formato numérico, por lo que no se requiere de mucho preprocesamiento."
      ]
    },
    {
      "cell_type": "code",
      "execution_count": 1,
      "metadata": {
        "id": "wNdKHknCL1Ud"
      },
      "outputs": [],
      "source": [
        "import pandas as pd # feature selection"
      ]
    },
    {
      "cell_type": "code",
      "execution_count": 2,
      "metadata": {
        "id": "rKSug6tbPojV"
      },
      "outputs": [
        {
          "data": {
            "text/html": [
              "<div>\n",
              "<style scoped>\n",
              "    .dataframe tbody tr th:only-of-type {\n",
              "        vertical-align: middle;\n",
              "    }\n",
              "\n",
              "    .dataframe tbody tr th {\n",
              "        vertical-align: top;\n",
              "    }\n",
              "\n",
              "    .dataframe thead th {\n",
              "        text-align: right;\n",
              "    }\n",
              "</style>\n",
              "<table border=\"1\" class=\"dataframe\">\n",
              "  <thead>\n",
              "    <tr style=\"text-align: right;\">\n",
              "      <th></th>\n",
              "      <th>baseline value</th>\n",
              "      <th>accelerations</th>\n",
              "      <th>fetal_movement</th>\n",
              "      <th>uterine_contractions</th>\n",
              "      <th>light_decelerations</th>\n",
              "      <th>severe_decelerations</th>\n",
              "      <th>prolongued_decelerations</th>\n",
              "      <th>abnormal_short_term_variability</th>\n",
              "      <th>mean_value_of_short_term_variability</th>\n",
              "      <th>percentage_of_time_with_abnormal_long_term_variability</th>\n",
              "      <th>...</th>\n",
              "      <th>histogram_min</th>\n",
              "      <th>histogram_max</th>\n",
              "      <th>histogram_number_of_peaks</th>\n",
              "      <th>histogram_number_of_zeroes</th>\n",
              "      <th>histogram_mode</th>\n",
              "      <th>histogram_mean</th>\n",
              "      <th>histogram_median</th>\n",
              "      <th>histogram_variance</th>\n",
              "      <th>histogram_tendency</th>\n",
              "      <th>fetal_health</th>\n",
              "    </tr>\n",
              "  </thead>\n",
              "  <tbody>\n",
              "    <tr>\n",
              "      <th>0</th>\n",
              "      <td>120.0</td>\n",
              "      <td>0.000</td>\n",
              "      <td>0.0</td>\n",
              "      <td>0.000</td>\n",
              "      <td>0.000</td>\n",
              "      <td>0.0</td>\n",
              "      <td>0.0</td>\n",
              "      <td>73.0</td>\n",
              "      <td>0.5</td>\n",
              "      <td>43.0</td>\n",
              "      <td>...</td>\n",
              "      <td>62.0</td>\n",
              "      <td>126.0</td>\n",
              "      <td>2.0</td>\n",
              "      <td>0.0</td>\n",
              "      <td>120.0</td>\n",
              "      <td>137.0</td>\n",
              "      <td>121.0</td>\n",
              "      <td>73.0</td>\n",
              "      <td>1.0</td>\n",
              "      <td>2.0</td>\n",
              "    </tr>\n",
              "    <tr>\n",
              "      <th>1</th>\n",
              "      <td>132.0</td>\n",
              "      <td>0.006</td>\n",
              "      <td>0.0</td>\n",
              "      <td>0.006</td>\n",
              "      <td>0.003</td>\n",
              "      <td>0.0</td>\n",
              "      <td>0.0</td>\n",
              "      <td>17.0</td>\n",
              "      <td>2.1</td>\n",
              "      <td>0.0</td>\n",
              "      <td>...</td>\n",
              "      <td>68.0</td>\n",
              "      <td>198.0</td>\n",
              "      <td>6.0</td>\n",
              "      <td>1.0</td>\n",
              "      <td>141.0</td>\n",
              "      <td>136.0</td>\n",
              "      <td>140.0</td>\n",
              "      <td>12.0</td>\n",
              "      <td>0.0</td>\n",
              "      <td>1.0</td>\n",
              "    </tr>\n",
              "    <tr>\n",
              "      <th>2</th>\n",
              "      <td>133.0</td>\n",
              "      <td>0.003</td>\n",
              "      <td>0.0</td>\n",
              "      <td>0.008</td>\n",
              "      <td>0.003</td>\n",
              "      <td>0.0</td>\n",
              "      <td>0.0</td>\n",
              "      <td>16.0</td>\n",
              "      <td>2.1</td>\n",
              "      <td>0.0</td>\n",
              "      <td>...</td>\n",
              "      <td>68.0</td>\n",
              "      <td>198.0</td>\n",
              "      <td>5.0</td>\n",
              "      <td>1.0</td>\n",
              "      <td>141.0</td>\n",
              "      <td>135.0</td>\n",
              "      <td>138.0</td>\n",
              "      <td>13.0</td>\n",
              "      <td>0.0</td>\n",
              "      <td>1.0</td>\n",
              "    </tr>\n",
              "    <tr>\n",
              "      <th>3</th>\n",
              "      <td>134.0</td>\n",
              "      <td>0.003</td>\n",
              "      <td>0.0</td>\n",
              "      <td>0.008</td>\n",
              "      <td>0.003</td>\n",
              "      <td>0.0</td>\n",
              "      <td>0.0</td>\n",
              "      <td>16.0</td>\n",
              "      <td>2.4</td>\n",
              "      <td>0.0</td>\n",
              "      <td>...</td>\n",
              "      <td>53.0</td>\n",
              "      <td>170.0</td>\n",
              "      <td>11.0</td>\n",
              "      <td>0.0</td>\n",
              "      <td>137.0</td>\n",
              "      <td>134.0</td>\n",
              "      <td>137.0</td>\n",
              "      <td>13.0</td>\n",
              "      <td>1.0</td>\n",
              "      <td>1.0</td>\n",
              "    </tr>\n",
              "    <tr>\n",
              "      <th>4</th>\n",
              "      <td>132.0</td>\n",
              "      <td>0.007</td>\n",
              "      <td>0.0</td>\n",
              "      <td>0.008</td>\n",
              "      <td>0.000</td>\n",
              "      <td>0.0</td>\n",
              "      <td>0.0</td>\n",
              "      <td>16.0</td>\n",
              "      <td>2.4</td>\n",
              "      <td>0.0</td>\n",
              "      <td>...</td>\n",
              "      <td>53.0</td>\n",
              "      <td>170.0</td>\n",
              "      <td>9.0</td>\n",
              "      <td>0.0</td>\n",
              "      <td>137.0</td>\n",
              "      <td>136.0</td>\n",
              "      <td>138.0</td>\n",
              "      <td>11.0</td>\n",
              "      <td>1.0</td>\n",
              "      <td>1.0</td>\n",
              "    </tr>\n",
              "  </tbody>\n",
              "</table>\n",
              "<p>5 rows × 22 columns</p>\n",
              "</div>"
            ],
            "text/plain": [
              "   baseline value  accelerations  fetal_movement  uterine_contractions  \\\n",
              "0           120.0          0.000             0.0                 0.000   \n",
              "1           132.0          0.006             0.0                 0.006   \n",
              "2           133.0          0.003             0.0                 0.008   \n",
              "3           134.0          0.003             0.0                 0.008   \n",
              "4           132.0          0.007             0.0                 0.008   \n",
              "\n",
              "   light_decelerations  severe_decelerations  prolongued_decelerations  \\\n",
              "0                0.000                   0.0                       0.0   \n",
              "1                0.003                   0.0                       0.0   \n",
              "2                0.003                   0.0                       0.0   \n",
              "3                0.003                   0.0                       0.0   \n",
              "4                0.000                   0.0                       0.0   \n",
              "\n",
              "   abnormal_short_term_variability  mean_value_of_short_term_variability  \\\n",
              "0                             73.0                                   0.5   \n",
              "1                             17.0                                   2.1   \n",
              "2                             16.0                                   2.1   \n",
              "3                             16.0                                   2.4   \n",
              "4                             16.0                                   2.4   \n",
              "\n",
              "   percentage_of_time_with_abnormal_long_term_variability  ...  histogram_min  \\\n",
              "0                                               43.0       ...           62.0   \n",
              "1                                                0.0       ...           68.0   \n",
              "2                                                0.0       ...           68.0   \n",
              "3                                                0.0       ...           53.0   \n",
              "4                                                0.0       ...           53.0   \n",
              "\n",
              "   histogram_max  histogram_number_of_peaks  histogram_number_of_zeroes  \\\n",
              "0          126.0                        2.0                         0.0   \n",
              "1          198.0                        6.0                         1.0   \n",
              "2          198.0                        5.0                         1.0   \n",
              "3          170.0                       11.0                         0.0   \n",
              "4          170.0                        9.0                         0.0   \n",
              "\n",
              "   histogram_mode  histogram_mean  histogram_median  histogram_variance  \\\n",
              "0           120.0           137.0             121.0                73.0   \n",
              "1           141.0           136.0             140.0                12.0   \n",
              "2           141.0           135.0             138.0                13.0   \n",
              "3           137.0           134.0             137.0                13.0   \n",
              "4           137.0           136.0             138.0                11.0   \n",
              "\n",
              "   histogram_tendency  fetal_health  \n",
              "0                 1.0           2.0  \n",
              "1                 0.0           1.0  \n",
              "2                 0.0           1.0  \n",
              "3                 1.0           1.0  \n",
              "4                 1.0           1.0  \n",
              "\n",
              "[5 rows x 22 columns]"
            ]
          },
          "execution_count": 2,
          "metadata": {},
          "output_type": "execute_result"
        }
      ],
      "source": [
        "df = pd.read_csv(\"https://github.com/ulewis/Ejemplos/raw/main/Datos/fetal_health.csv\")\n",
        "df.head()  # vemos los 5 primeros datos del dataframe"
      ]
    },
    {
      "cell_type": "code",
      "execution_count": 3,
      "metadata": {},
      "outputs": [
        {
          "data": {
            "text/plain": [
              "baseline value                                            0\n",
              "accelerations                                             0\n",
              "fetal_movement                                            0\n",
              "uterine_contractions                                      0\n",
              "light_decelerations                                       0\n",
              "severe_decelerations                                      0\n",
              "prolongued_decelerations                                  0\n",
              "abnormal_short_term_variability                           0\n",
              "mean_value_of_short_term_variability                      0\n",
              "percentage_of_time_with_abnormal_long_term_variability    0\n",
              "mean_value_of_long_term_variability                       0\n",
              "histogram_width                                           0\n",
              "histogram_min                                             0\n",
              "histogram_max                                             0\n",
              "histogram_number_of_peaks                                 0\n",
              "histogram_number_of_zeroes                                0\n",
              "histogram_mode                                            0\n",
              "histogram_mean                                            0\n",
              "histogram_median                                          0\n",
              "histogram_variance                                        0\n",
              "histogram_tendency                                        0\n",
              "fetal_health                                              0\n",
              "dtype: int64"
            ]
          },
          "execution_count": 3,
          "metadata": {},
          "output_type": "execute_result"
        }
      ],
      "source": [
        "# Check for missing values in the dataset\n",
        "missing_values = df.isnull().sum()\n",
        "missing_values\n"
      ]
    },
    {
      "cell_type": "code",
      "execution_count": 4,
      "metadata": {},
      "outputs": [
        {
          "data": {
            "text/plain": [
              "baseline value                                            float64\n",
              "accelerations                                             float64\n",
              "fetal_movement                                            float64\n",
              "uterine_contractions                                      float64\n",
              "light_decelerations                                       float64\n",
              "severe_decelerations                                      float64\n",
              "prolongued_decelerations                                  float64\n",
              "abnormal_short_term_variability                           float64\n",
              "mean_value_of_short_term_variability                      float64\n",
              "percentage_of_time_with_abnormal_long_term_variability    float64\n",
              "mean_value_of_long_term_variability                       float64\n",
              "histogram_width                                           float64\n",
              "histogram_min                                             float64\n",
              "histogram_max                                             float64\n",
              "histogram_number_of_peaks                                 float64\n",
              "histogram_number_of_zeroes                                float64\n",
              "histogram_mode                                            float64\n",
              "histogram_mean                                            float64\n",
              "histogram_median                                          float64\n",
              "histogram_variance                                        float64\n",
              "histogram_tendency                                        float64\n",
              "fetal_health                                              float64\n",
              "dtype: object"
            ]
          },
          "execution_count": 4,
          "metadata": {},
          "output_type": "execute_result"
        }
      ],
      "source": [
        "df.dtypes #"
      ]
    },
    {
      "cell_type": "markdown",
      "metadata": {},
      "source": [
        "# Variables a utilizar y variable objetivo\n",
        "\n",
        "A simple vista, parece que todas las variables pueden tener relevancia en el modelo de clasificación, la variable objetivo será fetal_health el cual contiene una categoría.\n",
        "\n",
        "Se implementarán los modelos de clasificación y se verificarán cuales de las características son las más relevantes.\n",
        "\n",
        "a. Las categorías ya estan definidas en fetal_health: 1-Normal(Normal); 2-Sospechoso(Suspect); 3-Patológic(Pathological)"
      ]
    },
    {
      "cell_type": "markdown",
      "metadata": {},
      "source": [
        "# Split de data de entrenamiento y data de test"
      ]
    },
    {
      "cell_type": "code",
      "execution_count": 5,
      "metadata": {},
      "outputs": [
        {
          "data": {
            "text/plain": [
              "((1700, 21), (426, 21), (1700,), (426,))"
            ]
          },
          "execution_count": 5,
          "metadata": {},
          "output_type": "execute_result"
        }
      ],
      "source": [
        "from sklearn.model_selection import train_test_split\n",
        "\n",
        "# Split the data into features and target variable\n",
        "X = df.drop('fetal_health', axis=1)\n",
        "y = df['fetal_health']\n",
        "\n",
        "# Split the dataset into training (70%) and testing (30%) sets\n",
        "X_train, X_test, y_train, y_test = train_test_split(X, y, test_size=0.2, random_state=3)\n",
        "\n",
        "# Confirm the sizes of the datasets\n",
        "X_train.shape, X_test.shape, y_train.shape, y_test.shape\n"
      ]
    },
    {
      "cell_type": "markdown",
      "metadata": {},
      "source": [
        "# Entrenamiento y evaluación de modelos\n",
        "\n",
        "Se realizó una función para realizar la prueba de validación cruzada con los modelos y mostrar el classification report"
      ]
    },
    {
      "cell_type": "code",
      "execution_count": 6,
      "metadata": {},
      "outputs": [],
      "source": [
        "from sklearn.metrics import classification_report, accuracy_score\n",
        "from sklearn.model_selection import cross_val_score\n",
        "import numpy as np\n",
        "\n",
        "def evaluate_model(model, X, y, name):\n",
        "    model.fit(X_train, y_train)\n",
        "    scores = cross_val_score(model, X, y, cv=5)\n",
        "    y_pred = model.predict(X_test)\n",
        "    print(classification_report(y_test, y_pred))\n",
        "    print(f\"Cross validation: Accuracy of {name} (mean ± std): {np.mean(scores):.4f} ± {np.std(scores):.4f}\")"
      ]
    },
    {
      "cell_type": "markdown",
      "metadata": {},
      "source": [
        "# Random forest"
      ]
    },
    {
      "cell_type": "code",
      "execution_count": 7,
      "metadata": {},
      "outputs": [
        {
          "name": "stdout",
          "output_type": "stream",
          "text": [
            "              precision    recall  f1-score   support\n",
            "\n",
            "         1.0       0.97      0.98      0.98       343\n",
            "         2.0       0.85      0.80      0.82        50\n",
            "         3.0       0.94      0.91      0.92        33\n",
            "\n",
            "    accuracy                           0.96       426\n",
            "   macro avg       0.92      0.90      0.91       426\n",
            "weighted avg       0.95      0.96      0.95       426\n",
            "\n",
            "Cross validation: Accuracy of Random forest (mean ± std): 0.9412 ± 0.0113\n"
          ]
        },
        {
          "data": {
            "image/png": "[encoded data removed]",
            "text/plain": [
              "<Figure size 432x288 with 1 Axes>"
            ]
          },
          "metadata": {
            "needs_background": "light"
          },
          "output_type": "display_data"
        }
      ],
      "source": [
        "from sklearn.model_selection import train_test_split\n",
        "from sklearn.ensemble import RandomForestClassifier\n",
        "from sklearn.metrics import classification_report, accuracy_score\n",
        "import matplotlib.pyplot as plt\n",
        "import seaborn as sns\n",
        "\n",
        "\n",
        "# Entrenar un clasificador de Random Forest\n",
        "rf = RandomForestClassifier(n_estimators=100, random_state=0)\n",
        "rf.fit(X_train, y_train)\n",
        "\n",
        "# Evaluar el modelo\n",
        "y_pred = rf.predict(X_test)\n",
        "evaluate_model(rf, X_train, y_train, \"Random forest\")\n",
        "\n",
        "# Importancia de las características\n",
        "feature_importances = rf.feature_importances_\n",
        "sns.barplot(x=feature_importances, y=X.columns)\n",
        "plt.title('Importancia de las Características')\n",
        "plt.show()\n"
      ]
    },
    {
      "cell_type": "markdown",
      "metadata": {},
      "source": [
        "Si bien algunas de las características no son tan relevantes para el modelo (severe_decelerations, histogram_number_of_zeroes,histogram_tendency, light_decelerations). La mayoría de variables utilizadas son útiles para la predicción"
      ]
    },
    {
      "cell_type": "markdown",
      "metadata": {},
      "source": [
        "# KNN"
      ]
    },
    {
      "cell_type": "code",
      "execution_count": 8,
      "metadata": {},
      "outputs": [
        {
          "name": "stdout",
          "output_type": "stream",
          "text": [
            "              precision    recall  f1-score   support\n",
            "\n",
            "         1.0       0.94      0.94      0.94       343\n",
            "         2.0       0.62      0.70      0.66        50\n",
            "         3.0       0.86      0.73      0.79        33\n",
            "\n",
            "    accuracy                           0.90       426\n",
            "   macro avg       0.81      0.79      0.80       426\n",
            "weighted avg       0.90      0.90      0.90       426\n",
            "\n",
            "Cross validation: Accuracy of K-Nearest Neighbors (mean ± std): 0.8988 ± 0.0066\n"
          ]
        }
      ],
      "source": [
        "from sklearn.neighbors import KNeighborsClassifier\n",
        "from sklearn.linear_model import LogisticRegression\n",
        "from sklearn.tree import DecisionTreeClassifier\n",
        "from sklearn.model_selection import cross_val_score\n",
        "import numpy as np\n",
        "\n",
        "# Initialize the models\n",
        "knn = KNeighborsClassifier(n_neighbors=3)\n",
        "\n",
        "\n",
        "# Evaluate models\n",
        "evaluate_model(knn, X_train, y_train, \"K-Nearest Neighbors\")\n",
        "\n"
      ]
    },
    {
      "cell_type": "markdown",
      "metadata": {},
      "source": [
        "# Árbol de decisión"
      ]
    },
    {
      "cell_type": "code",
      "execution_count": 9,
      "metadata": {},
      "outputs": [
        {
          "name": "stdout",
          "output_type": "stream",
          "text": [
            "              precision    recall  f1-score   support\n",
            "\n",
            "         1.0       0.96      0.94      0.95       343\n",
            "         2.0       0.69      0.74      0.71        50\n",
            "         3.0       0.91      0.91      0.91        33\n",
            "\n",
            "    accuracy                           0.92       426\n",
            "   macro avg       0.85      0.86      0.86       426\n",
            "weighted avg       0.92      0.92      0.92       426\n",
            "\n",
            "Cross validation: Accuracy of Decision Tree (mean ± std): 0.9200 ± 0.0120\n"
          ]
        }
      ],
      "source": [
        "decision_tree = DecisionTreeClassifier()\n",
        "evaluate_model(decision_tree, X_train, y_train, \"Decision Tree\")"
      ]
    },
    {
      "cell_type": "code",
      "execution_count": 10,
      "metadata": {},
      "outputs": [
        {
          "data": {
            "image/png": "[encoded data removed]",
            "text/plain": [
              "<Figure size 432x288 with 2 Axes>"
            ]
          },
          "metadata": {
            "needs_background": "light"
          },
          "output_type": "display_data"
        },
        {
          "data": {
            "image/png": "[encoded data removed]",
            "text/plain": [
              "<Figure size 432x288 with 2 Axes>"
            ]
          },
          "metadata": {
            "needs_background": "light"
          },
          "output_type": "display_data"
        },
        {
          "data": {
            "image/png": "[encoded data removed]",
            "text/plain": [
              "<Figure size 432x288 with 2 Axes>"
            ]
          },
          "metadata": {
            "needs_background": "light"
          },
          "output_type": "display_data"
        }
      ],
      "source": [
        "from sklearn.metrics import confusion_matrix, ConfusionMatrixDisplay\n",
        "\n",
        "def plot_confusion_matrix(model, X_test, y_test, model_name):\n",
        "    y_pred = model.predict(X_test)\n",
        "    cm = confusion_matrix(y_test, y_pred)\n",
        "    disp = ConfusionMatrixDisplay(confusion_matrix=cm, display_labels=model.classes_)\n",
        "    disp.plot(cmap=plt.cm.Blues)\n",
        "    plt.title(f'Matriz de Confusión para {model_name}')\n",
        "\n",
        "plot_confusion_matrix(rf, X_test, y_test, \"Random Forest\")\n",
        "plot_confusion_matrix(knn, X_test, y_test, \"K-Nearest Neighbors\")\n",
        "plot_confusion_matrix(decision_tree, X_test, y_test, \"Decision Tree\")\n"
      ]
    },
    {
      "cell_type": "code",
      "execution_count": 11,
      "metadata": {},
      "outputs": [
        {
          "data": {
            "image/png": "[encoded data removed]",
            "text/plain": [
              "<Figure size 432x288 with 1 Axes>"
            ]
          },
          "metadata": {
            "needs_background": "light"
          },
          "output_type": "display_data"
        }
      ],
      "source": [
        "from sklearn.model_selection import cross_val_score\n",
        "import matplotlib.pyplot as plt\n",
        "\n",
        "# Función para plotear comparaciones de modelos usando validación cruzada\n",
        "def plot_model_comparison(models, X, y, names):\n",
        "    results = []\n",
        "    for model in models:\n",
        "        cv_results = cross_val_score(model, X, y, cv=10, scoring='accuracy')\n",
        "        results.append(cv_results)\n",
        "\n",
        "    # Crear un diagrama de caja\n",
        "    fig, ax = plt.subplots()\n",
        "    ax.boxplot(results, labels=names)\n",
        "    ax.set_title('Comparación de Precisión de los Modelos')\n",
        "    ax.set_ylabel('Precisión')\n",
        "    ax.set_xlabel('Modelo')\n",
        "    plt.grid(True)\n",
        "    plt.show()\n",
        "\n",
        "# Inicializar los modelos\n",
        "rf = RandomForestClassifier(n_estimators=100, random_state=42)\n",
        "knn = KNeighborsClassifier(n_neighbors=3)\n",
        "decision_tree = DecisionTreeClassifier(random_state=42)\n",
        "\n",
        "# Preparar los nombres de los modelos\n",
        "models = [rf, knn, decision_tree]\n",
        "names = ['Random Forest', 'K-Nearest Neighbors', 'Decision Tree']\n",
        "\n",
        "# Asumiendo que 'X' y 'y' son tus variables de características y objetivo\n",
        "plot_model_comparison(models, X, y, names)\n"
      ]
    },
    {
      "cell_type": "markdown",
      "metadata": {},
      "source": [
        "# Mejor modelo: Random forest\n",
        "Obtuvo las mejores métricas entre los 3 modelos de clasificación.\n",
        "\n",
        "## Curva ROC del random forest:"
      ]
    },
    {
      "cell_type": "code",
      "execution_count": 12,
      "metadata": {},
      "outputs": [
        {
          "data": {
            "image/png": "[encoded data removed]",
            "text/plain": [
              "<Figure size 432x288 with 1 Axes>"
            ]
          },
          "metadata": {
            "needs_background": "light"
          },
          "output_type": "display_data"
        }
      ],
      "source": [
        "from sklearn.metrics import roc_curve, roc_auc_score, auc\n",
        "from sklearn.preprocessing import label_binarize\n",
        "from sklearn.multiclass import OneVsRestClassifier\n",
        "\n",
        "def plot_roc_curve(model, X_test, y_test, model_name):\n",
        "    # Binarize the output labels if more than two classes\n",
        "    y_test_bin = label_binarize(y_test, classes=np.unique(y_test))\n",
        "    n_classes = y_test_bin.shape[1]\n",
        "\n",
        "    # Compute ROC curve and ROC area for each class\n",
        "    y_score = model.predict_proba(X_test)\n",
        "    \n",
        "    # Compute micro-average ROC curve and ROC area\n",
        "    fpr, tpr, _ = roc_curve(y_test_bin.ravel(), y_score.ravel())\n",
        "    roc_auc = auc(fpr, tpr)\n",
        "    \n",
        "    plt.figure()\n",
        "    plt.plot(fpr, tpr, color='darkorange', lw=2, label='ROC curve (area = %0.2f)' % roc_auc)\n",
        "    plt.plot([0, 1], [0, 1], color='navy', lw=2, linestyle='--')\n",
        "    plt.xlim([0.0, 1.0])\n",
        "    plt.ylim([0.0, 1.05])\n",
        "    plt.xlabel('False Positive Rate')\n",
        "    plt.ylabel('True Positive Rate')\n",
        "    plt.title(f'ROC Curve for {model_name}')\n",
        "    plt.legend(loc=\"lower right\")\n",
        "    plt.show()\n",
        "\n",
        "# Asegurarse de ajustar el modelo\n",
        "ovr_rf = OneVsRestClassifier(rf)\n",
        "ovr_rf.fit(X_train, y_train)\n",
        "plot_roc_curve(ovr_rf, X_test, y_test, \"Random Forest\")\n"
      ]
    }
  ],
  "metadata": {
    "colab": {
      "provenance": []
    },
    "kernelspec": {
      "display_name": "Python 3",
      "name": "python3"
    },
    "language_info": {
      "codemirror_mode": {
        "name": "ipython",
        "version": 3
      },
      "file_extension": ".py",
      "mimetype": "text/x-python",
      "name": "python",
      "nbconvert_exporter": "python",
      "pygments_lexer": "ipython3",
      "version": "3.10.0"
    }
  },
  "nbformat": 4,
  "nbformat_minor": 0
}
